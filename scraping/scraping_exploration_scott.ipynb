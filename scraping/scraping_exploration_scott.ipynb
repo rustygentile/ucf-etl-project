{
 "cells": [
  {
   "cell_type": "code",
   "execution_count": 1,
   "metadata": {},
   "outputs": [],
   "source": [
    "from bs4 import BeautifulSoup\n",
    "import requests\n",
    "import os\n",
    "import pandas as pd\n",
    "from splinter import Browser"
   ]
  },
  {
   "cell_type": "code",
   "execution_count": 2,
   "metadata": {},
   "outputs": [],
   "source": [
    "executable_path = {'executable_path': 'chromedriver.exe'}\n",
    "browser = Browser('chrome', **executable_path, headless=False)\n",
    "url = \"https://www.ncaa.com/game/basketball-men/d1/2018/03/22/kansas-st-kentucky/boxscore\"\n",
    "browser.visit(url)"
   ]
  },
  {
   "cell_type": "code",
   "execution_count": 3,
   "metadata": {},
   "outputs": [
    {
     "data": {
      "text/plain": [
       "[   Unnamed: 0   1   2  Unnamed: 3\n",
       " 0         NaN  33  28          61\n",
       " 1         NaN  29  29          58,\n",
       "                Name     POS     MIN   FGM-A  3PM-A FTM-A  OREB   REB   AST  \\\n",
       " 0      Xavier Sneed       F      30    7-14    5-8   3-7   2.0   9.0   1.0   \n",
       " 1      Makol Mawien       F      22     0-4    0-0   0-0   0.0   0.0   0.0   \n",
       " 2     Levi Stockard       F       5     0-0    0-0   2-2   0.0   0.0   1.0   \n",
       " 3         Dean Wade       F       8     1-2    0-0   2-2   1.0   1.0   0.0   \n",
       " 4    Cartier Diarra       G      27     2-6    1-2   0-1   1.0   3.0   2.0   \n",
       " 5   Amaad Wainright       G       9     2-3    0-1   2-4   2.0   4.0   0.0   \n",
       " 6      Mike McGuirl       G      21     1-3    1-2   0-0   1.0   2.0   2.0   \n",
       " 7      Kamau Stokes       G      39     2-7    1-5   1-1   2.0   5.0   3.0   \n",
       " 8       Barry Brown       G      39    4-15    1-4   4-5   0.0   3.0   3.0   \n",
       " 9             Total     NaN   19-54    9-22  14-22     9  27.0  12.0  11.0   \n",
       " 10              NaN  35.20%  40.90%  63.60%    NaN   NaN   NaN   NaN   NaN   \n",
       " \n",
       "      ST  BLK    TO    PF   PTS  \n",
       " 0   2.0  0.0   0.0   5.0  22.0  \n",
       " 1   1.0  2.0   1.0   5.0   0.0  \n",
       " 2   0.0  0.0   2.0   5.0   2.0  \n",
       " 3   1.0  0.0   0.0   1.0   4.0  \n",
       " 4   2.0  0.0   1.0   4.0   5.0  \n",
       " 5   0.0  0.0   1.0   4.0   6.0  \n",
       " 6   1.0  0.0   0.0   3.0   3.0  \n",
       " 7   4.0  0.0   2.0   1.0   6.0  \n",
       " 8   0.0  0.0   2.0   2.0  13.0  \n",
       " 9   2.0  9.0  30.0  61.0   NaN  \n",
       " 10  NaN  NaN   NaN   NaN   NaN  ]"
      ]
     },
     "execution_count": 3,
     "metadata": {},
     "output_type": "execute_result"
    }
   ],
   "source": [
    "html = browser.html\n",
    "response = requests.get(url)\n",
    "soup = BeautifulSoup(html, 'lxml')\n",
    "tables = pd.read_html(html)\n",
    "tables"
   ]
  },
  {
   "cell_type": "code",
   "execution_count": 4,
   "metadata": {},
   "outputs": [],
   "source": [
    "away_team = soup.find_all('div', class_='boxscore-team-selector-team homeTeam-bg-primary_color awayTeam-border-primary_color home')"
   ]
  },
  {
   "cell_type": "code",
   "execution_count": 10,
   "metadata": {},
   "outputs": [
    {
     "data": {
      "text/plain": [
       "[]"
      ]
     },
     "execution_count": 10,
     "metadata": {},
     "output_type": "execute_result"
    }
   ],
   "source": [
    "browser = Browser('chrome', **executable_path, headless=False)\n",
    "browser.visit(url)\n",
    "#away_var = away_team[0].text.strip()\n",
    "#browser.click_link_by_partial_text(away_var)\n",
    "\n",
    "elems = browser.find_by_css('div[class=\"boxscore-team-selector-team homeTeam-bg-primary_color awayTeam-border-primary_color home active\"]')\n",
    "\n",
    "elems"
   ]
  },
  {
   "cell_type": "code",
   "execution_count": null,
   "metadata": {},
   "outputs": [],
   "source": []
  }
 ],
 "metadata": {
  "kernelspec": {
   "display_name": "Python 3",
   "language": "python",
   "name": "python3"
  },
  "language_info": {
   "codemirror_mode": {
    "name": "ipython",
    "version": 3
   },
   "file_extension": ".py",
   "mimetype": "text/x-python",
   "name": "python",
   "nbconvert_exporter": "python",
   "pygments_lexer": "ipython3",
   "version": "3.6.6"
  }
 },
 "nbformat": 4,
 "nbformat_minor": 2
}
