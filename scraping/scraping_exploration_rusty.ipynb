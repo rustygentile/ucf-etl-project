{
 "cells": [
  {
   "cell_type": "code",
   "execution_count": 1,
   "metadata": {},
   "outputs": [],
   "source": [
    "# Dependencies\n",
    "from bs4 import BeautifulSoup\n",
    "import requests\n",
    "import pandas as pd\n",
    "import datadotworld as dw"
   ]
  },
  {
   "cell_type": "code",
   "execution_count": 2,
   "metadata": {},
   "outputs": [],
   "source": [
    "bracket_url = 'https://www.ncaa.com/brackets/basketball-men/d1/2017'\n",
    "bracket_html = requests.get(bracket_url)"
   ]
  },
  {
   "cell_type": "code",
   "execution_count": 3,
   "metadata": {},
   "outputs": [
    {
     "name": "stdout",
     "output_type": "stream",
     "text": [
      "<Response [200]>\n"
     ]
    }
   ],
   "source": [
    "# Verify response\n",
    "print(bracket_html)"
   ]
  },
  {
   "cell_type": "code",
   "execution_count": 4,
   "metadata": {},
   "outputs": [],
   "source": [
    "# Soup setup\n",
    "soup = BeautifulSoup(bracket_html.text, 'html.parser')\n",
    "\n",
    "# Get all the urls\n",
    "urls = []\n",
    "for a in soup.find_all('a', href=True):\n",
    "    urls.append(a['href'])"
   ]
  },
  {
   "cell_type": "code",
   "execution_count": 9,
   "metadata": {},
   "outputs": [],
   "source": [
    "# Filter out the games and export\n",
    "base_game_url = \"https://www.ncaa.com\"\n",
    "game_urls = []\n",
    "for url in urls:\n",
    "    if '/game/basketball-men/' in url:\n",
    "        game_urls.append(f'{base_game_url}{url}')\n",
    "\n",
    "game_urls_df = pd.DataFrame({'urls': game_urls})\n",
    "\n",
    "with dw.open_remote_file('rustygentile/ncaa-etl', 'game_urls2.csv') as w:\n",
    "    game_urls_df.to_csv(w, index=False)"
   ]
  },
  {
   "cell_type": "code",
   "execution_count": 6,
   "metadata": {},
   "outputs": [
    {
     "data": {
      "text/plain": [
       "LazyLoadedDict({'game_urls': LazyLoadedValue(<pandas.DataFrame>)})"
      ]
     },
     "execution_count": 6,
     "metadata": {},
     "output_type": "execute_result"
    }
   ],
   "source": [
    "# ...Test reading\n",
    "test_read_db = dw.load_dataset('rustygentile/ncaa-etl', force_update=True)\n",
    "\n",
    "test_read_db.dataframes"
   ]
  },
  {
   "cell_type": "code",
   "execution_count": 7,
   "metadata": {},
   "outputs": [
    {
     "data": {
      "text/html": [
       "<div>\n",
       "<style scoped>\n",
       "    .dataframe tbody tr th:only-of-type {\n",
       "        vertical-align: middle;\n",
       "    }\n",
       "\n",
       "    .dataframe tbody tr th {\n",
       "        vertical-align: top;\n",
       "    }\n",
       "\n",
       "    .dataframe thead th {\n",
       "        text-align: right;\n",
       "    }\n",
       "</style>\n",
       "<table border=\"1\" class=\"dataframe\">\n",
       "  <thead>\n",
       "    <tr style=\"text-align: right;\">\n",
       "      <th></th>\n",
       "      <th>urls</th>\n",
       "    </tr>\n",
       "  </thead>\n",
       "  <tbody>\n",
       "    <tr>\n",
       "      <th>0</th>\n",
       "      <td>https://www.ncaa.com/game/basketball-men/d1/20...</td>\n",
       "    </tr>\n",
       "    <tr>\n",
       "      <th>1</th>\n",
       "      <td>https://www.ncaa.com/game/basketball-men/d1/20...</td>\n",
       "    </tr>\n",
       "    <tr>\n",
       "      <th>2</th>\n",
       "      <td>https://www.ncaa.com/game/basketball-men/d1/20...</td>\n",
       "    </tr>\n",
       "    <tr>\n",
       "      <th>3</th>\n",
       "      <td>https://www.ncaa.com/game/basketball-men/d1/20...</td>\n",
       "    </tr>\n",
       "    <tr>\n",
       "      <th>4</th>\n",
       "      <td>https://www.ncaa.com/game/basketball-men/d1/20...</td>\n",
       "    </tr>\n",
       "  </tbody>\n",
       "</table>\n",
       "</div>"
      ],
      "text/plain": [
       "                                                urls\n",
       "0  https://www.ncaa.com/game/basketball-men/d1/20...\n",
       "1  https://www.ncaa.com/game/basketball-men/d1/20...\n",
       "2  https://www.ncaa.com/game/basketball-men/d1/20...\n",
       "3  https://www.ncaa.com/game/basketball-men/d1/20...\n",
       "4  https://www.ncaa.com/game/basketball-men/d1/20..."
      ]
     },
     "execution_count": 7,
     "metadata": {},
     "output_type": "execute_result"
    }
   ],
   "source": [
    "test_df = test_read_db.dataframes['game_urls']\n",
    "test_df.head()"
   ]
  },
  {
   "cell_type": "code",
   "execution_count": 65,
   "metadata": {},
   "outputs": [
    {
     "data": {
      "text/plain": [
       "LazyLoadedDict({'game_urls': LazyLoadedValue(<bytes>), 'original/game_urls.csv': LazyLoadedValue(<bytes>)})"
      ]
     },
     "execution_count": 65,
     "metadata": {},
     "output_type": "execute_result"
    }
   ],
   "source": [
    "test_read_db.raw_data"
   ]
  },
  {
   "cell_type": "code",
   "execution_count": null,
   "metadata": {},
   "outputs": [],
   "source": []
  }
 ],
 "metadata": {
  "kernelspec": {
   "display_name": "Python 3",
   "language": "python",
   "name": "python3"
  },
  "language_info": {
   "codemirror_mode": {
    "name": "ipython",
    "version": 3
   },
   "file_extension": ".py",
   "mimetype": "text/x-python",
   "name": "python",
   "nbconvert_exporter": "python",
   "pygments_lexer": "ipython3",
   "version": "3.6.5"
  }
 },
 "nbformat": 4,
 "nbformat_minor": 2
}
