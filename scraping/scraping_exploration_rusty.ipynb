{
 "cells": [
  {
   "cell_type": "code",
   "execution_count": 5,
   "metadata": {},
   "outputs": [],
   "source": [
    "# Dependencies\n",
    "from bs4 import BeautifulSoup\n",
    "import requests"
   ]
  },
  {
   "cell_type": "code",
   "execution_count": 6,
   "metadata": {},
   "outputs": [],
   "source": [
    "bracket_url = 'https://www.ncaa.com/brackets/basketball-men/d1/2017'\n",
    "bracket_html = requests.get(bracket_url)"
   ]
  },
  {
   "cell_type": "code",
   "execution_count": 7,
   "metadata": {},
   "outputs": [
    {
     "name": "stdout",
     "output_type": "stream",
     "text": [
      "<Response [200]>\n"
     ]
    }
   ],
   "source": [
    "# Verify response\n",
    "print(bracket_html)"
   ]
  },
  {
   "cell_type": "code",
   "execution_count": 16,
   "metadata": {},
   "outputs": [],
   "source": [
    "# Soup setup\n",
    "soup = BeautifulSoup(bracket_html.text, 'html.parser')\n",
    "\n",
    "# Get all the urls\n",
    "urls = []\n",
    "for a in soup.find_all('a', href=True):\n",
    "    urls.append(a['href'])"
   ]
  },
  {
   "cell_type": "code",
   "execution_count": 17,
   "metadata": {},
   "outputs": [
    {
     "name": "stdout",
     "output_type": "stream",
     "text": [
      "/game/basketball-men/d1/2017/03/16/mt-st-marys-villanova\n",
      "/game/basketball-men/d1/2017/03/16/virginia-tech-wisconsin\n",
      "/game/basketball-men/d1/2017/03/16/unc-wilmington-virginia\n",
      "/game/basketball-men/d1/2017/03/16/east-tenn-st-florida\n",
      "/game/basketball-men/d1/2017/03/17/southern-california-smu\n",
      "/game/basketball-men/d1/2017/03/17/new-mexico-st-baylor\n",
      "/game/basketball-men/d1/2017/03/17/marquette-south-carolina\n",
      "/game/basketball-men/d1/2017/03/17/troy-duke\n",
      "/game/basketball-men/d1/2017/03/18/wisconsin-villanova\n",
      "/game/basketball-men/d1/2017/03/18/virginia-florida\n",
      "/game/basketball-men/d1/2017/03/19/southern-california-baylor\n",
      "/game/basketball-men/d1/2017/03/19/south-carolina-duke\n",
      "/game/basketball-men/d1/2017/03/24/wisconsin-florida\n",
      "/game/basketball-men/d1/2017/03/24/south-carolina-baylor\n",
      "/game/basketball-men/d1/2017/03/26/south-carolina-florida\n",
      "/game/basketball-men/d1/2017/03/17/uc-davis-kansas\n",
      "/game/basketball-men/d1/2017/03/17/michigan-st-miami-fl\n",
      "/game/basketball-men/d1/2017/03/16/nevada-iowa-st\n",
      "/game/basketball-men/d1/2017/03/16/vermont-purdue\n",
      "/game/basketball-men/d1/2017/03/17/rhode-island-creighton\n",
      "/game/basketball-men/d1/2017/03/17/iona-oregon\n",
      "/game/basketball-men/d1/2017/03/17/oklahoma-st-michigan\n",
      "/game/basketball-men/d1/2017/03/17/jacksonville-st-louisville\n",
      "/game/basketball-men/d1/2017/03/19/michigan-st-kansas\n",
      "/game/basketball-men/d1/2017/03/18/iowa-st-purdue\n",
      "/game/basketball-men/d1/2017/03/19/rhode-island-oregon\n",
      "/game/basketball-men/d1/2017/03/19/michigan-louisville\n",
      "/game/basketball-men/d1/2017/03/23/purdue-kansas\n",
      "/game/basketball-men/d1/2017/03/23/michigan-oregon\n",
      "/game/basketball-men/d1/2017/03/25/oregon-kansas\n",
      "/game/basketball-men/d1/2017/04/01/south-carolina-gonzaga\n",
      "/game/basketball-men/d1/2017/04/03/gonzaga-north-carolina\n",
      "/game/basketball-men/d1/2017/04/01/oregon-north-carolina\n",
      "/game/basketball-men/d1/2017/03/16/south-dakota-st-gonzaga\n",
      "/game/basketball-men/d1/2017/03/16/vanderbilt-northwestern\n",
      "/game/basketball-men/d1/2017/03/16/princeton-notre-dame\n",
      "/game/basketball-men/d1/2017/03/16/bucknell-west-virginia\n",
      "/game/basketball-men/d1/2017/03/16/xavier-maryland\n",
      "/game/basketball-men/d1/2017/03/16/fgcu-florida-st\n",
      "/game/basketball-men/d1/2017/03/16/vcu-st-marys-ca\n",
      "/game/basketball-men/d1/2017/03/16/north-dakota-arizona\n",
      "/game/basketball-men/d1/2017/03/18/northwestern-gonzaga\n",
      "/game/basketball-men/d1/2017/03/18/notre-dame-west-virginia\n",
      "/game/basketball-men/d1/2017/03/18/xavier-florida-st\n",
      "/game/basketball-men/d1/2017/03/18/st-marys-ca-arizona\n",
      "/game/basketball-men/d1/2017/03/23/west-virginia-gonzaga\n",
      "/game/basketball-men/d1/2017/03/23/xavier-arizona\n",
      "/game/basketball-men/d1/2017/03/25/xavier-gonzaga\n",
      "/game/basketball-men/d1/2017/03/17/texas-southern-north-carolina\n",
      "/game/basketball-men/d1/2017/03/17/seton-hall-arkansas\n",
      "/game/basketball-men/d1/2017/03/16/middle-tenn-minnesota\n",
      "/game/basketball-men/d1/2017/03/16/winthrop-butler\n",
      "/game/basketball-men/d1/2017/03/17/kansas-st-cincinnati\n",
      "/game/basketball-men/d1/2017/03/17/kent-st-ucla\n",
      "/game/basketball-men/d1/2017/03/17/wichita-st-dayton\n",
      "/game/basketball-men/d1/2017/03/17/northern-ky-kentucky\n",
      "/game/basketball-men/d1/2017/03/19/arkansas-north-carolina\n",
      "/game/basketball-men/d1/2017/03/18/middle-tenn-butler\n",
      "/game/basketball-men/d1/2017/03/19/cincinnati-ucla\n",
      "/game/basketball-men/d1/2017/03/19/wichita-st-kentucky\n",
      "/game/basketball-men/d1/2017/03/24/butler-north-carolina\n",
      "/game/basketball-men/d1/2017/03/24/ucla-kentucky\n",
      "/game/basketball-men/d1/2017/03/26/kentucky-north-carolina\n",
      "/game/basketball-men/d1/2017/03/14/kansas-st-wake-forest\n",
      "/game/basketball-men/d1/2017/03/14/mt-st-marys-new-orleans\n",
      "/game/basketball-men/d1/2017/03/15/nc-central-uc-davis\n",
      "/game/basketball-men/d1/2017/03/15/southern-california-providence\n"
     ]
    }
   ],
   "source": [
    "# Filter out the games and export\n",
    "for url in urls:\n",
    "    if '/game/basketball-men/' in url:\n",
    "        print(url)"
   ]
  },
  {
   "cell_type": "code",
   "execution_count": null,
   "metadata": {},
   "outputs": [],
   "source": []
  }
 ],
 "metadata": {
  "kernelspec": {
   "display_name": "Python 3",
   "language": "python",
   "name": "python3"
  },
  "language_info": {
   "codemirror_mode": {
    "name": "ipython",
    "version": 3
   },
   "file_extension": ".py",
   "mimetype": "text/x-python",
   "name": "python",
   "nbconvert_exporter": "python",
   "pygments_lexer": "ipython3",
   "version": "3.6.6"
  }
 },
 "nbformat": 4,
 "nbformat_minor": 2
}
