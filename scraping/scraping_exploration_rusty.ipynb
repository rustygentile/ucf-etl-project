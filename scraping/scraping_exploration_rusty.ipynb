{
 "cells": [
  {
   "cell_type": "code",
   "execution_count": 5,
   "metadata": {},
   "outputs": [],
   "source": [
    "# Dependencies\n",
    "from bs4 import BeautifulSoup\n",
    "import requests"
   ]
  },
  {
   "cell_type": "code",
   "execution_count": 6,
   "metadata": {},
   "outputs": [],
   "source": [
    "bracket_url = 'https://www.ncaa.com/brackets/basketball-men/d1/2017'\n",
    "bracket_html = requests.get(bracket_url)"
   ]
  },
  {
   "cell_type": "code",
   "execution_count": 7,
   "metadata": {},
   "outputs": [
    {
     "name": "stdout",
     "output_type": "stream",
     "text": [
      "<Response [200]>\n"
     ]
    }
   ],
   "source": [
    "# Verify response\n",
    "print(bracket_html)"
   ]
  },
  {
   "cell_type": "code",
   "execution_count": 16,
   "metadata": {},
   "outputs": [],
   "source": [
    "# Soup setup\n",
    "soup = BeautifulSoup(bracket_html.text, 'html.parser')\n",
    "\n",
    "# Get all the urls\n",
    "urls = []\n",
    "for a in soup.find_all('a', href=True):\n",
    "    urls.append(a['href'])"
   ]
  },
  {
   "cell_type": "code",
   "execution_count": 21,
   "metadata": {},
   "outputs": [
    {
     "ename": "SyntaxError",
     "evalue": "EOL while scanning string literal (<ipython-input-21-8e04754165fa>, line 6)",
     "output_type": "error",
     "traceback": [
      "\u001b[1;36m  File \u001b[1;32m\"<ipython-input-21-8e04754165fa>\"\u001b[1;36m, line \u001b[1;32m6\u001b[0m\n\u001b[1;33m    game_urls.append(f'{base_game_url}{url})\u001b[0m\n\u001b[1;37m                                            ^\u001b[0m\n\u001b[1;31mSyntaxError\u001b[0m\u001b[1;31m:\u001b[0m EOL while scanning string literal\n"
     ]
    }
   ],
   "source": [
    "# Filter out the games and export\n",
    "base_game_url = \"https://www.ncaa.com\"\n",
    "game_urls = []\n",
    "for url in urls:\n",
    "    if '/game/basketball-men/' in url:\n",
    "        game_urls.append(f'{base_game_url}{url})\n",
    "        \n",
    "with open('game_urls.txt', 'w') as games_file:\n",
    "    for g in game_urls:\n",
    "        games_file.write(g + '\\n')"
   ]
  },
  {
   "cell_type": "code",
   "execution_count": null,
   "metadata": {},
   "outputs": [],
   "source": []
  }
 ],
 "metadata": {
  "kernelspec": {
   "display_name": "Python 3",
   "language": "python",
   "name": "python3"
  },
  "language_info": {
   "codemirror_mode": {
    "name": "ipython",
    "version": 3
   },
   "file_extension": ".py",
   "mimetype": "text/x-python",
   "name": "python",
   "nbconvert_exporter": "python",
   "pygments_lexer": "ipython3",
   "version": "3.6.6"
  }
 },
 "nbformat": 4,
 "nbformat_minor": 2
}
