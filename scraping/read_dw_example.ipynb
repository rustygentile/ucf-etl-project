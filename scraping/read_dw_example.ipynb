{
 "cells": [
  {
   "cell_type": "code",
   "execution_count": 13,
   "metadata": {},
   "outputs": [],
   "source": [
    "import pandas as pd\n",
    "import datadotworld as dw"
   ]
  },
  {
   "cell_type": "code",
   "execution_count": 14,
   "metadata": {},
   "outputs": [],
   "source": [
    "# Load the data object\n",
    "data_object = dw.load_dataset('rustygentile/ncaa-etl', force_update=True)\n",
    "available_csvs = list(data_object.dataframes)"
   ]
  },
  {
   "cell_type": "code",
   "execution_count": 15,
   "metadata": {},
   "outputs": [
    {
     "data": {
      "text/plain": [
       "['2017_03_14_kansas_st_wake_forest_boxscore_game_results',\n",
       " '2017_03_14_kansas_st_wake_forest_boxscore_kansas_st',\n",
       " '2017_03_14_kansas_st_wake_forest_boxscore_wake_forest',\n",
       " '2017_03_14_mt_st_marys_new_orleans_boxscore_game_results',\n",
       " '2017_03_14_mt_st_marys_new_orleans_boxscore_mt_st_marys']"
      ]
     },
     "execution_count": 15,
     "metadata": {},
     "output_type": "execute_result"
    }
   ],
   "source": [
    "# print out the first five csvs:\n",
    "available_csvs[:5]"
   ]
  },
  {
   "cell_type": "code",
   "execution_count": 16,
   "metadata": {},
   "outputs": [],
   "source": [
    "# load 3 dataframes as an example\n",
    "dfs_2017 = []\n",
    "for csvs in available_csvs[:3]:\n",
    "    if \"2017\" in csvs:\n",
    "        dfs_2017.append(data_object.dataframes[csvs])"
   ]
  },
  {
   "cell_type": "code",
   "execution_count": 17,
   "metadata": {},
   "outputs": [
    {
     "name": "stdout",
     "output_type": "stream",
     "text": [
      "Dataframe:\n",
      "   column_a  column_b    column_c\n",
      "0         1         2  Unnamed: 3\n",
      "1        40        55          95\n",
      "2        36        52          88\n",
      "Dataframe:\n",
      "             name pos min fgm_a 3pm_a  ftm_a  oreb  reb  ast   st  blk   to  \\\n",
      "0   Wesley Iwundu   F  35   6-9   1-2  11-13   1.0  6.0  7.0  1.0  0.0  2.0   \n",
      "1    D.J. Johnson   F  34   8-9   0-0    2-2   3.0  6.0  0.0  0.0  3.0  0.0   \n",
      "2    Xavier Sneed   F  12   0-2   0-2    2-4   0.0  2.0  2.0  4.0  0.0  2.0   \n",
      "3  Isaiah Maurice   F   6   0-0   0-0    0-0   0.0  1.0  0.0  0.0  0.0  1.0   \n",
      "4       Dean Wade   F  23   3-4   0-1    2-3   0.0  2.0  2.0  0.0  0.0  2.0   \n",
      "\n",
      "    pf   pts  \n",
      "0  3.0  24.0  \n",
      "1  4.0  18.0  \n",
      "2  3.0   2.0  \n",
      "3  3.0   0.0  \n",
      "4  2.0   8.0  \n",
      "Dataframe:\n",
      "                    name pos min fgm_a 3pm_a ftm_a  oreb  reb  ast   st  blk  \\\n",
      "0     Sam Japhet-Mathias   C   2   0-0   0-0   0-0   0.0  0.0  0.0  0.0  0.0   \n",
      "1  Konstantinos Mitoglou   F  29   1-5   1-4   4-6   1.0  2.0  0.0  1.0  0.0   \n",
      "2         Greg McClinton   F   4   0-0   0-0   0-0   0.0  0.0  0.0  0.0  0.0   \n",
      "3           John Collins   F  36  9-13   0-0   8-8   4.0  9.0  0.0  1.0  0.0   \n",
      "4          Austin Arians   F  19   5-7   4-5   3-3   0.0  0.0  0.0  0.0  0.0   \n",
      "\n",
      "    to   pf   pts  \n",
      "0  0.0  2.0   0.0  \n",
      "1  0.0  4.0   7.0  \n",
      "2  0.0  2.0   0.0  \n",
      "3  2.0  2.0  26.0  \n",
      "4  1.0  3.0  17.0  \n"
     ]
    }
   ],
   "source": [
    "for d in dfs_2017:\n",
    "    print(\"Dataframe:\")\n",
    "    print(d.head())"
   ]
  },
  {
   "cell_type": "code",
   "execution_count": null,
   "metadata": {},
   "outputs": [],
   "source": []
  },
  {
   "cell_type": "code",
   "execution_count": null,
   "metadata": {},
   "outputs": [],
   "source": []
  }
 ],
 "metadata": {
  "kernelspec": {
   "display_name": "Python 3",
   "language": "python",
   "name": "python3"
  },
  "language_info": {
   "codemirror_mode": {
    "name": "ipython",
    "version": 3
   },
   "file_extension": ".py",
   "mimetype": "text/x-python",
   "name": "python",
   "nbconvert_exporter": "python",
   "pygments_lexer": "ipython3",
   "version": "3.6.6"
  }
 },
 "nbformat": 4,
 "nbformat_minor": 2
}
