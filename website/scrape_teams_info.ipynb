{
 "cells": [
  {
   "cell_type": "code",
   "execution_count": 2,
   "metadata": {},
   "outputs": [],
   "source": [
    "from splinter import Browser\n",
    "from splinter.exceptions import ElementDoesNotExist\n",
    "from bs4 import BeautifulSoup\n",
    "import pandas as pd\n",
    "import time\n",
    "import datadotworld as dw"
   ]
  },
  {
   "cell_type": "markdown",
   "metadata": {},
   "source": [
    "# Mac Users"
   ]
  },
  {
   "cell_type": "code",
   "execution_count": 3,
   "metadata": {},
   "outputs": [
    {
     "name": "stdout",
     "output_type": "stream",
     "text": [
      "/usr/local/bin/chromedriver\r\n"
     ]
    }
   ],
   "source": [
    "# https://splinter.readthedocs.io/en/latest/drivers/chrome.html\n",
    "!which chromedriver"
   ]
  },
  {
   "cell_type": "code",
   "execution_count": 4,
   "metadata": {},
   "outputs": [],
   "source": [
    "executable_path = {'executable_path': '/usr/local/bin/chromedriver'}\n",
    "browser = Browser('chrome', **executable_path, headless=False)"
   ]
  },
  {
   "cell_type": "markdown",
   "metadata": {},
   "source": [
    "# Windows Users"
   ]
  },
  {
   "cell_type": "code",
   "execution_count": 5,
   "metadata": {},
   "outputs": [],
   "source": [
    "# executable_path = {'executable_path': 'chromedriver.exe'}\n",
    "# browser = Browser('chrome', **executable_path, headless=False)"
   ]
  },
  {
   "cell_type": "code",
   "execution_count": 6,
   "metadata": {},
   "outputs": [],
   "source": [
    "url = ('https://www.ncaa.com/brackets/basketball-men/d1')\n",
    "browser.visit(url)\n",
    "time.sleep(1)\n",
    "html = browser.html\n",
    "soup = BeautifulSoup(html, 'html.parser')\n"
   ]
  },
  {
   "cell_type": "code",
   "execution_count": 7,
   "metadata": {},
   "outputs": [],
   "source": [
    "regions=soup.find('div',class_='bracket_68')\n"
   ]
  },
  {
   "cell_type": "code",
   "execution_count": 8,
   "metadata": {},
   "outputs": [
    {
     "name": "stdout",
     "output_type": "stream",
     "text": [
      "['SOUTH', 'EAST', 'WEST', 'MIDWEST']\n"
     ]
    }
   ],
   "source": [
    "region_list =[]\n",
    "\n",
    "region1 = regions.find_all('h3')[0].text.strip()\n",
    "region_list.append(region1)\n",
    "region2 = regions.find_all('h3')[1].text.strip()\n",
    "region_list.append(region2)\n",
    "region3 = regions.find_all('h3')[6].text.strip()\n",
    "region_list.append(region3)\n",
    "region4 = regions.find_all('h3')[7].text.strip()\n",
    "region_list.append(region4)\n",
    "\n",
    "print(region_list)"
   ]
  },
  {
   "cell_type": "code",
   "execution_count": null,
   "metadata": {},
   "outputs": [],
   "source": []
  },
  {
   "cell_type": "code",
   "execution_count": 9,
   "metadata": {},
   "outputs": [
    {
     "name": "stdout",
     "output_type": "stream",
     "text": [
      "['Virginia', 'UMBC', 'Creighton', 'Kansas St.', 'Kentucky', 'Davidson', 'Arizona', 'Buffalo', 'Miami (FL)', 'Loyola (IL)', 'Tennessee', 'Wright St.', 'Nevada', 'Texas', 'Cincinnati', 'Georgia St.', 'UMBC', 'Kansas St.', 'Kentucky', 'Buffalo', 'Loyola (IL)', 'Tennessee', 'Nevada', 'Cincinnati', 'Kansas St.', 'Kentucky', 'Loyola (IL)', 'Nevada', 'Kansas St.', 'Loyola (IL)', 'Villanova', 'Radford', 'Virginia Tech', 'Alabama', 'West Virginia', 'Murray St.', 'Wichita St.', 'Marshall', 'Florida', 'St. Bonaventure', 'Texas Tech', 'Stephen F. Austin', 'Arkansas', 'Butler', 'Purdue', 'Cal St. Fullerton', 'Villanova', 'Alabama', 'West Virginia', 'Marshall', 'Florida', 'Texas Tech', 'Butler', 'Purdue', 'Villanova', 'West Virginia', 'Texas Tech', 'Purdue', 'Villanova', 'Texas Tech', 'Loyola (IL)', 'Michigan', 'Michigan', 'Villanova', 'Villanova', 'Kansas', 'Xavier', 'Texas Southern', 'Missouri', 'Florida St.', 'Ohio St.', 'South Dakota St.', 'Gonzaga', 'UNC Greensboro', 'Houston', 'San Diego St.', 'Michigan', 'Montana', 'Texas A&M', 'Providence', 'North Carolina', 'Lipscomb', 'Xavier', 'Florida St.', 'Ohio St.', 'Gonzaga', 'Houston', 'Michigan', 'Texas A&M', 'North Carolina', 'Florida St.', 'Gonzaga', 'Michigan', 'Texas A&M', 'Florida St.', 'Michigan', 'Kansas', 'Penn', 'Seton Hall', 'North Carolina St.', 'Clemson', 'New Mexico St.', 'Auburn', 'Col. of Charleston', 'TCU', 'Syracuse', 'Michigan St.', 'Bucknell', 'Rhode Island', 'Oklahoma', 'Duke', 'Iona', 'Kansas', 'Seton Hall', 'Clemson', 'Auburn', 'Syracuse', 'Michigan St.', 'Rhode Island', 'Duke', 'Kansas', 'Clemson', 'Syracuse', 'Duke', 'Kansas', 'Duke', 'Long Island', 'Radford', 'St. Bonaventure', 'UCLA', 'N.C. Central', 'Texas Southern', 'Arizona St.', 'Syracuse'] ['1', '16', '8', '9', '5', '12', '4', '13', '6', '11', '3', '14', '7', '10', '2', '15', '16', '9', '5', '13', '11', '3', '7', '2', '9', '5', '11', '7', '9', '11', '1', '16', '8', '9', '5', '12', '4', '13', '6', '11', '3', '14', '7', '10', '2', '15', '1', '9', '5', '13', '6', '3', '10', '2', '1', '5', '3', '2', '1', '3', '11', '3', '3', '1', '1', '1', '1', '16', '8', '9', '5', '12', '4', '13', '6', '11', '3', '14', '7', '10', '2', '15', '1', '9', '5', '4', '6', '3', '7', '2', '9', '4', '3', '7', '9', '3', '1', '16', '8', '9', '5', '12', '4', '13', '6', '11', '3', '14', '7', '10', '2', '15', '1', '8', '5', '4', '11', '3', '7', '2', '1', '5', '11', '2', '1', '2', '16', '16', '11', '11', '16', '16', '11', '11'] ['https://i.turner.ncaa.com/sites/default/files/images/logos/schools/bgl/virginia.svg', 'https://i.turner.ncaa.com/sites/default/files/images/logos/schools/bgl/umbc.svg', 'https://i.turner.ncaa.com/sites/default/files/images/logos/schools/bgl/creighton.svg', 'https://i.turner.ncaa.com/sites/default/files/images/logos/schools/bgl/kansas-st.svg', 'https://i.turner.ncaa.com/sites/default/files/images/logos/schools/bgl/kentucky.svg', 'https://i.turner.ncaa.com/sites/default/files/images/logos/schools/bgl/davidson.svg', 'https://i.turner.ncaa.com/sites/default/files/images/logos/schools/bgl/arizona.svg', 'https://i.turner.ncaa.com/sites/default/files/images/logos/schools/bgl/buffalo.svg', 'https://i.turner.ncaa.com/sites/default/files/images/logos/schools/bgl/miami-fl.svg', 'https://i.turner.ncaa.com/sites/default/files/images/logos/schools/bgl/loyola-il.svg', 'https://i.turner.ncaa.com/sites/default/files/images/logos/schools/bgl/tennessee.svg', 'https://i.turner.ncaa.com/sites/default/files/images/logos/schools/bgl/wright-st.svg', 'https://i.turner.ncaa.com/sites/default/files/images/logos/schools/bgl/nevada.svg', 'https://i.turner.ncaa.com/sites/default/files/images/logos/schools/bgl/texas.svg', 'https://i.turner.ncaa.com/sites/default/files/images/logos/schools/bgl/cincinnati.svg', 'https://i.turner.ncaa.com/sites/default/files/images/logos/schools/bgl/georgia-st.svg', 'https://i.turner.ncaa.com/sites/default/files/images/logos/schools/bgl/umbc.svg', 'https://i.turner.ncaa.com/sites/default/files/images/logos/schools/bgl/kansas-st.svg', 'https://i.turner.ncaa.com/sites/default/files/images/logos/schools/bgl/kentucky.svg', 'https://i.turner.ncaa.com/sites/default/files/images/logos/schools/bgl/buffalo.svg', 'https://i.turner.ncaa.com/sites/default/files/images/logos/schools/bgl/loyola-il.svg', 'https://i.turner.ncaa.com/sites/default/files/images/logos/schools/bgl/tennessee.svg', 'https://i.turner.ncaa.com/sites/default/files/images/logos/schools/bgl/nevada.svg', 'https://i.turner.ncaa.com/sites/default/files/images/logos/schools/bgl/cincinnati.svg', 'https://i.turner.ncaa.com/sites/default/files/images/logos/schools/bgl/kansas-st.svg', 'https://i.turner.ncaa.com/sites/default/files/images/logos/schools/bgl/kentucky.svg', 'https://i.turner.ncaa.com/sites/default/files/images/logos/schools/bgl/loyola-il.svg', 'https://i.turner.ncaa.com/sites/default/files/images/logos/schools/bgl/nevada.svg', 'https://i.turner.ncaa.com/sites/default/files/images/logos/schools/bgl/kansas-st.svg', 'https://i.turner.ncaa.com/sites/default/files/images/logos/schools/bgl/loyola-il.svg', 'https://i.turner.ncaa.com/sites/default/files/images/logos/schools/bgl/villanova.svg', 'https://i.turner.ncaa.com/sites/default/files/images/logos/schools/bgl/radford.svg', 'https://i.turner.ncaa.com/sites/default/files/images/logos/schools/bgl/virginia-tech.svg', 'https://i.turner.ncaa.com/sites/default/files/images/logos/schools/bgl/alabama.svg', 'https://i.turner.ncaa.com/sites/default/files/images/logos/schools/bgl/west-virginia.svg', 'https://i.turner.ncaa.com/sites/default/files/images/logos/schools/bgl/murray-st.svg', 'https://i.turner.ncaa.com/sites/default/files/images/logos/schools/bgl/wichita-st.svg', 'https://i.turner.ncaa.com/sites/default/files/images/logos/schools/bgl/marshall.svg', 'https://i.turner.ncaa.com/sites/default/files/images/logos/schools/bgl/florida.svg', 'https://i.turner.ncaa.com/sites/default/files/images/logos/schools/bgl/st-bonaventure.svg', 'https://i.turner.ncaa.com/sites/default/files/images/logos/schools/bgl/texas-tech.svg', 'https://i.turner.ncaa.com/sites/default/files/images/logos/schools/bgl/stephen-f-austin.svg', 'https://i.turner.ncaa.com/sites/default/files/images/logos/schools/bgl/arkansas.svg', 'https://i.turner.ncaa.com/sites/default/files/images/logos/schools/bgl/butler.svg', 'https://i.turner.ncaa.com/sites/default/files/images/logos/schools/bgl/purdue.svg', 'https://i.turner.ncaa.com/sites/default/files/images/logos/schools/bgl/cal-st-fullerton.svg', 'https://i.turner.ncaa.com/sites/default/files/images/logos/schools/bgl/villanova.svg', 'https://i.turner.ncaa.com/sites/default/files/images/logos/schools/bgl/alabama.svg', 'https://i.turner.ncaa.com/sites/default/files/images/logos/schools/bgl/west-virginia.svg', 'https://i.turner.ncaa.com/sites/default/files/images/logos/schools/bgl/marshall.svg', 'https://i.turner.ncaa.com/sites/default/files/images/logos/schools/bgl/florida.svg', 'https://i.turner.ncaa.com/sites/default/files/images/logos/schools/bgl/texas-tech.svg', 'https://i.turner.ncaa.com/sites/default/files/images/logos/schools/bgl/butler.svg', 'https://i.turner.ncaa.com/sites/default/files/images/logos/schools/bgl/purdue.svg', 'https://i.turner.ncaa.com/sites/default/files/images/logos/schools/bgl/villanova.svg', 'https://i.turner.ncaa.com/sites/default/files/images/logos/schools/bgl/west-virginia.svg', 'https://i.turner.ncaa.com/sites/default/files/images/logos/schools/bgl/texas-tech.svg', 'https://i.turner.ncaa.com/sites/default/files/images/logos/schools/bgl/purdue.svg', 'https://i.turner.ncaa.com/sites/default/files/images/logos/schools/bgl/villanova.svg', 'https://i.turner.ncaa.com/sites/default/files/images/logos/schools/bgl/texas-tech.svg', 'https://i.turner.ncaa.com/sites/default/files/images/logos/schools/bgl/loyola-il.svg', 'https://i.turner.ncaa.com/sites/default/files/images/logos/schools/bgl/michigan.svg', 'https://i.turner.ncaa.com/sites/default/files/images/logos/schools/bgl/michigan.svg', 'https://i.turner.ncaa.com/sites/default/files/images/logos/schools/bgl/villanova.svg', 'https://i.turner.ncaa.com/sites/default/files/images/logos/schools/bgl/villanova.svg', 'https://i.turner.ncaa.com/sites/default/files/images/logos/schools/bgl/kansas.svg', 'https://i.turner.ncaa.com/sites/default/files/images/logos/schools/bgl/xavier.svg', 'https://i.turner.ncaa.com/sites/default/files/images/logos/schools/bgl/texas-southern.svg', 'https://i.turner.ncaa.com/sites/default/files/images/logos/schools/bgl/missouri.svg', 'https://i.turner.ncaa.com/sites/default/files/images/logos/schools/bgl/florida-st.svg', 'https://i.turner.ncaa.com/sites/default/files/images/logos/schools/bgl/ohio-st.svg', 'https://i.turner.ncaa.com/sites/default/files/images/logos/schools/bgl/south-dakota-st.svg', 'https://i.turner.ncaa.com/sites/default/files/images/logos/schools/bgl/gonzaga.svg', 'https://i.turner.ncaa.com/sites/default/files/images/logos/schools/bgl/unc-greensboro.svg', 'https://i.turner.ncaa.com/sites/default/files/images/logos/schools/bgl/houston.svg', 'https://i.turner.ncaa.com/sites/default/files/images/logos/schools/bgl/san-diego-st.svg', 'https://i.turner.ncaa.com/sites/default/files/images/logos/schools/bgl/michigan.svg', 'https://i.turner.ncaa.com/sites/default/files/images/logos/schools/bgl/montana.svg', 'https://i.turner.ncaa.com/sites/default/files/images/logos/schools/bgl/texas-am.svg', 'https://i.turner.ncaa.com/sites/default/files/images/logos/schools/bgl/providence.svg', 'https://i.turner.ncaa.com/sites/default/files/images/logos/schools/bgl/north-carolina.svg', 'https://i.turner.ncaa.com/sites/default/files/images/logos/schools/bgl/lipscomb.svg', 'https://i.turner.ncaa.com/sites/default/files/images/logos/schools/bgl/xavier.svg', 'https://i.turner.ncaa.com/sites/default/files/images/logos/schools/bgl/florida-st.svg', 'https://i.turner.ncaa.com/sites/default/files/images/logos/schools/bgl/ohio-st.svg', 'https://i.turner.ncaa.com/sites/default/files/images/logos/schools/bgl/gonzaga.svg', 'https://i.turner.ncaa.com/sites/default/files/images/logos/schools/bgl/houston.svg', 'https://i.turner.ncaa.com/sites/default/files/images/logos/schools/bgl/michigan.svg', 'https://i.turner.ncaa.com/sites/default/files/images/logos/schools/bgl/texas-am.svg', 'https://i.turner.ncaa.com/sites/default/files/images/logos/schools/bgl/north-carolina.svg', 'https://i.turner.ncaa.com/sites/default/files/images/logos/schools/bgl/florida-st.svg', 'https://i.turner.ncaa.com/sites/default/files/images/logos/schools/bgl/gonzaga.svg', 'https://i.turner.ncaa.com/sites/default/files/images/logos/schools/bgl/michigan.svg', 'https://i.turner.ncaa.com/sites/default/files/images/logos/schools/bgl/texas-am.svg', 'https://i.turner.ncaa.com/sites/default/files/images/logos/schools/bgl/florida-st.svg', 'https://i.turner.ncaa.com/sites/default/files/images/logos/schools/bgl/michigan.svg', 'https://i.turner.ncaa.com/sites/default/files/images/logos/schools/bgl/kansas.svg', 'https://i.turner.ncaa.com/sites/default/files/images/logos/schools/bgl/penn.svg', 'https://i.turner.ncaa.com/sites/default/files/images/logos/schools/bgl/seton-hall.svg', 'https://i.turner.ncaa.com/sites/default/files/images/logos/schools/bgl/north-carolina-st.svg', 'https://i.turner.ncaa.com/sites/default/files/images/logos/schools/bgl/clemson.svg', 'https://i.turner.ncaa.com/sites/default/files/images/logos/schools/bgl/new-mexico-st.svg', 'https://i.turner.ncaa.com/sites/default/files/images/logos/schools/bgl/auburn.svg', 'https://i.turner.ncaa.com/sites/default/files/images/logos/schools/bgl/col-of-charleston.svg', 'https://i.turner.ncaa.com/sites/default/files/images/logos/schools/bgl/tcu.svg', 'https://i.turner.ncaa.com/sites/default/files/images/logos/schools/bgl/syracuse.svg', 'https://i.turner.ncaa.com/sites/default/files/images/logos/schools/bgl/michigan-st.svg', 'https://i.turner.ncaa.com/sites/default/files/images/logos/schools/bgl/bucknell.svg', 'https://i.turner.ncaa.com/sites/default/files/images/logos/schools/bgl/rhode-island.svg', 'https://i.turner.ncaa.com/sites/default/files/images/logos/schools/bgl/oklahoma.svg', 'https://i.turner.ncaa.com/sites/default/files/images/logos/schools/bgl/duke.svg', 'https://i.turner.ncaa.com/sites/default/files/images/logos/schools/bgl/iona.svg', 'https://i.turner.ncaa.com/sites/default/files/images/logos/schools/bgl/kansas.svg', 'https://i.turner.ncaa.com/sites/default/files/images/logos/schools/bgl/seton-hall.svg', 'https://i.turner.ncaa.com/sites/default/files/images/logos/schools/bgl/clemson.svg', 'https://i.turner.ncaa.com/sites/default/files/images/logos/schools/bgl/auburn.svg', 'https://i.turner.ncaa.com/sites/default/files/images/logos/schools/bgl/syracuse.svg', 'https://i.turner.ncaa.com/sites/default/files/images/logos/schools/bgl/michigan-st.svg', 'https://i.turner.ncaa.com/sites/default/files/images/logos/schools/bgl/rhode-island.svg', 'https://i.turner.ncaa.com/sites/default/files/images/logos/schools/bgl/duke.svg', 'https://i.turner.ncaa.com/sites/default/files/images/logos/schools/bgl/kansas.svg', 'https://i.turner.ncaa.com/sites/default/files/images/logos/schools/bgl/clemson.svg', 'https://i.turner.ncaa.com/sites/default/files/images/logos/schools/bgl/syracuse.svg', 'https://i.turner.ncaa.com/sites/default/files/images/logos/schools/bgl/duke.svg', 'https://i.turner.ncaa.com/sites/default/files/images/logos/schools/bgl/kansas.svg', 'https://i.turner.ncaa.com/sites/default/files/images/logos/schools/bgl/duke.svg', 'https://i.turner.ncaa.com/sites/default/files/images/logos/schools/bgl/long-island.svg', 'https://i.turner.ncaa.com/sites/default/files/images/logos/schools/bgl/radford.svg', 'https://i.turner.ncaa.com/sites/default/files/images/logos/schools/bgl/st-bonaventure.svg', 'https://i.turner.ncaa.com/sites/default/files/images/logos/schools/bgl/ucla.svg', 'https://i.turner.ncaa.com/sites/default/files/images/logos/schools/bgl/nc-central.svg', 'https://i.turner.ncaa.com/sites/default/files/images/logos/schools/bgl/texas-southern.svg', 'https://i.turner.ncaa.com/sites/default/files/images/logos/schools/bgl/arizona-st.svg', 'https://i.turner.ncaa.com/sites/default/files/images/logos/schools/bgl/syracuse.svg']\n"
     ]
    }
   ],
   "source": [
    "teams = regions.find_all('span',class_='name')\n",
    "mascots= regions.find_all('img',class_='logo')\n",
    "seeds=regions.find_all('span',class_='seed')\n",
    "team_names =[]\n",
    "team_mascots = []\n",
    "team_seeds=[]\n",
    "for team in teams:\n",
    "    team_names.append(team.text)\n",
    "\n",
    "for m in mascots:\n",
    "    mascot_url = 'https:' +m[\"src\"]\n",
    "    team_mascots.append(mascot_url)   \n",
    "for seed in seeds:\n",
    "    team_seeds.append(seed.text)    \n",
    "print(team_names,team_seeds,team_mascots)"
   ]
  },
  {
   "cell_type": "code",
   "execution_count": null,
   "metadata": {},
   "outputs": [],
   "source": []
  },
  {
   "cell_type": "code",
   "execution_count": null,
   "metadata": {},
   "outputs": [],
   "source": []
  },
  {
   "cell_type": "code",
   "execution_count": 10,
   "metadata": {},
   "outputs": [],
   "source": [
    "teams_mascot_df = pd.DataFrame({'Team Seed':team_seeds,\n",
    "                               'Team Name':team_names,\n",
    "                               'Team Mascot':team_mascots })\n",
    "\n",
    "\n"
   ]
  },
  {
   "cell_type": "code",
   "execution_count": 11,
   "metadata": {},
   "outputs": [
    {
     "name": "stdout",
     "output_type": "stream",
     "text": [
      "   Team Seed           Team Name  \\\n",
      "0          1            Virginia   \n",
      "1         16                UMBC   \n",
      "2          8           Creighton   \n",
      "3          9          Kansas St.   \n",
      "4          5            Kentucky   \n",
      "5         12            Davidson   \n",
      "6          4             Arizona   \n",
      "7         13             Buffalo   \n",
      "8          6          Miami (FL)   \n",
      "9         11         Loyola (IL)   \n",
      "10         3           Tennessee   \n",
      "11        14          Wright St.   \n",
      "12         7              Nevada   \n",
      "13        10               Texas   \n",
      "14         2          Cincinnati   \n",
      "15        15         Georgia St.   \n",
      "16         1           Villanova   \n",
      "17        16             Radford   \n",
      "18         8       Virginia Tech   \n",
      "19         9             Alabama   \n",
      "20         5       West Virginia   \n",
      "21        12          Murray St.   \n",
      "22         4         Wichita St.   \n",
      "23        13            Marshall   \n",
      "24         6             Florida   \n",
      "25        11     St. Bonaventure   \n",
      "26         3          Texas Tech   \n",
      "27        14   Stephen F. Austin   \n",
      "28         7            Arkansas   \n",
      "29        10              Butler   \n",
      "..       ...                 ...   \n",
      "38         5            Ohio St.   \n",
      "39        12    South Dakota St.   \n",
      "40         4             Gonzaga   \n",
      "41        13      UNC Greensboro   \n",
      "42         6             Houston   \n",
      "43        11       San Diego St.   \n",
      "44        14             Montana   \n",
      "45         7           Texas A&M   \n",
      "46        10          Providence   \n",
      "47         2      North Carolina   \n",
      "48        15            Lipscomb   \n",
      "49        16                Penn   \n",
      "50         8          Seton Hall   \n",
      "51         9  North Carolina St.   \n",
      "52         5             Clemson   \n",
      "53        12      New Mexico St.   \n",
      "54         4              Auburn   \n",
      "55        13  Col. of Charleston   \n",
      "56         6                 TCU   \n",
      "57        11            Syracuse   \n",
      "58         3        Michigan St.   \n",
      "59        14            Bucknell   \n",
      "60         7        Rhode Island   \n",
      "61        10            Oklahoma   \n",
      "62         2                Duke   \n",
      "63        15                Iona   \n",
      "64        16         Long Island   \n",
      "65        11                UCLA   \n",
      "66        16        N.C. Central   \n",
      "67        11         Arizona St.   \n",
      "\n",
      "                                          Team Mascot  \n",
      "0   https://i.turner.ncaa.com/sites/default/files/...  \n",
      "1   https://i.turner.ncaa.com/sites/default/files/...  \n",
      "2   https://i.turner.ncaa.com/sites/default/files/...  \n",
      "3   https://i.turner.ncaa.com/sites/default/files/...  \n",
      "4   https://i.turner.ncaa.com/sites/default/files/...  \n",
      "5   https://i.turner.ncaa.com/sites/default/files/...  \n",
      "6   https://i.turner.ncaa.com/sites/default/files/...  \n",
      "7   https://i.turner.ncaa.com/sites/default/files/...  \n",
      "8   https://i.turner.ncaa.com/sites/default/files/...  \n",
      "9   https://i.turner.ncaa.com/sites/default/files/...  \n",
      "10  https://i.turner.ncaa.com/sites/default/files/...  \n",
      "11  https://i.turner.ncaa.com/sites/default/files/...  \n",
      "12  https://i.turner.ncaa.com/sites/default/files/...  \n",
      "13  https://i.turner.ncaa.com/sites/default/files/...  \n",
      "14  https://i.turner.ncaa.com/sites/default/files/...  \n",
      "15  https://i.turner.ncaa.com/sites/default/files/...  \n",
      "16  https://i.turner.ncaa.com/sites/default/files/...  \n",
      "17  https://i.turner.ncaa.com/sites/default/files/...  \n",
      "18  https://i.turner.ncaa.com/sites/default/files/...  \n",
      "19  https://i.turner.ncaa.com/sites/default/files/...  \n",
      "20  https://i.turner.ncaa.com/sites/default/files/...  \n",
      "21  https://i.turner.ncaa.com/sites/default/files/...  \n",
      "22  https://i.turner.ncaa.com/sites/default/files/...  \n",
      "23  https://i.turner.ncaa.com/sites/default/files/...  \n",
      "24  https://i.turner.ncaa.com/sites/default/files/...  \n",
      "25  https://i.turner.ncaa.com/sites/default/files/...  \n",
      "26  https://i.turner.ncaa.com/sites/default/files/...  \n",
      "27  https://i.turner.ncaa.com/sites/default/files/...  \n",
      "28  https://i.turner.ncaa.com/sites/default/files/...  \n",
      "29  https://i.turner.ncaa.com/sites/default/files/...  \n",
      "..                                                ...  \n",
      "38  https://i.turner.ncaa.com/sites/default/files/...  \n",
      "39  https://i.turner.ncaa.com/sites/default/files/...  \n",
      "40  https://i.turner.ncaa.com/sites/default/files/...  \n",
      "41  https://i.turner.ncaa.com/sites/default/files/...  \n",
      "42  https://i.turner.ncaa.com/sites/default/files/...  \n",
      "43  https://i.turner.ncaa.com/sites/default/files/...  \n",
      "44  https://i.turner.ncaa.com/sites/default/files/...  \n",
      "45  https://i.turner.ncaa.com/sites/default/files/...  \n",
      "46  https://i.turner.ncaa.com/sites/default/files/...  \n",
      "47  https://i.turner.ncaa.com/sites/default/files/...  \n",
      "48  https://i.turner.ncaa.com/sites/default/files/...  \n",
      "49  https://i.turner.ncaa.com/sites/default/files/...  \n",
      "50  https://i.turner.ncaa.com/sites/default/files/...  \n",
      "51  https://i.turner.ncaa.com/sites/default/files/...  \n",
      "52  https://i.turner.ncaa.com/sites/default/files/...  \n",
      "53  https://i.turner.ncaa.com/sites/default/files/...  \n",
      "54  https://i.turner.ncaa.com/sites/default/files/...  \n",
      "55  https://i.turner.ncaa.com/sites/default/files/...  \n",
      "56  https://i.turner.ncaa.com/sites/default/files/...  \n",
      "57  https://i.turner.ncaa.com/sites/default/files/...  \n",
      "58  https://i.turner.ncaa.com/sites/default/files/...  \n",
      "59  https://i.turner.ncaa.com/sites/default/files/...  \n",
      "60  https://i.turner.ncaa.com/sites/default/files/...  \n",
      "61  https://i.turner.ncaa.com/sites/default/files/...  \n",
      "62  https://i.turner.ncaa.com/sites/default/files/...  \n",
      "63  https://i.turner.ncaa.com/sites/default/files/...  \n",
      "64  https://i.turner.ncaa.com/sites/default/files/...  \n",
      "65  https://i.turner.ncaa.com/sites/default/files/...  \n",
      "66  https://i.turner.ncaa.com/sites/default/files/...  \n",
      "67  https://i.turner.ncaa.com/sites/default/files/...  \n",
      "\n",
      "[68 rows x 3 columns]\n"
     ]
    }
   ],
   "source": [
    "new_teams_mascot_df = teams_mascot_df.drop_duplicates().reset_index(drop=True)\n",
    "print(new_teams_mascot_df)"
   ]
  },
  {
   "cell_type": "code",
   "execution_count": 26,
   "metadata": {},
   "outputs": [
    {
     "data": {
      "text/html": [
       "<div>\n",
       "<style scoped>\n",
       "    .dataframe tbody tr th:only-of-type {\n",
       "        vertical-align: middle;\n",
       "    }\n",
       "\n",
       "    .dataframe tbody tr th {\n",
       "        vertical-align: top;\n",
       "    }\n",
       "\n",
       "    .dataframe thead th {\n",
       "        text-align: right;\n",
       "    }\n",
       "</style>\n",
       "<table border=\"1\" class=\"dataframe\">\n",
       "  <thead>\n",
       "    <tr style=\"text-align: right;\">\n",
       "      <th></th>\n",
       "      <th>Team Seed</th>\n",
       "      <th>Team Name</th>\n",
       "      <th>Team Mascot</th>\n",
       "    </tr>\n",
       "    <tr>\n",
       "      <th>Region Name</th>\n",
       "      <th></th>\n",
       "      <th></th>\n",
       "      <th></th>\n",
       "    </tr>\n",
       "  </thead>\n",
       "  <tbody>\n",
       "    <tr>\n",
       "      <th>SOUTH</th>\n",
       "      <td>1</td>\n",
       "      <td>Virginia</td>\n",
       "      <td>https://i.turner.ncaa.com/sites/default/files/...</td>\n",
       "    </tr>\n",
       "    <tr>\n",
       "      <th>SOUTH</th>\n",
       "      <td>16</td>\n",
       "      <td>UMBC</td>\n",
       "      <td>https://i.turner.ncaa.com/sites/default/files/...</td>\n",
       "    </tr>\n",
       "    <tr>\n",
       "      <th>SOUTH</th>\n",
       "      <td>8</td>\n",
       "      <td>Creighton</td>\n",
       "      <td>https://i.turner.ncaa.com/sites/default/files/...</td>\n",
       "    </tr>\n",
       "    <tr>\n",
       "      <th>SOUTH</th>\n",
       "      <td>9</td>\n",
       "      <td>Kansas St.</td>\n",
       "      <td>https://i.turner.ncaa.com/sites/default/files/...</td>\n",
       "    </tr>\n",
       "    <tr>\n",
       "      <th>SOUTH</th>\n",
       "      <td>5</td>\n",
       "      <td>Kentucky</td>\n",
       "      <td>https://i.turner.ncaa.com/sites/default/files/...</td>\n",
       "    </tr>\n",
       "  </tbody>\n",
       "</table>\n",
       "</div>"
      ],
      "text/plain": [
       "            Team Seed   Team Name  \\\n",
       "Region Name                         \n",
       "SOUTH               1    Virginia   \n",
       "SOUTH              16        UMBC   \n",
       "SOUTH               8   Creighton   \n",
       "SOUTH               9  Kansas St.   \n",
       "SOUTH               5    Kentucky   \n",
       "\n",
       "                                                   Team Mascot  \n",
       "Region Name                                                     \n",
       "SOUTH        https://i.turner.ncaa.com/sites/default/files/...  \n",
       "SOUTH        https://i.turner.ncaa.com/sites/default/files/...  \n",
       "SOUTH        https://i.turner.ncaa.com/sites/default/files/...  \n",
       "SOUTH        https://i.turner.ncaa.com/sites/default/files/...  \n",
       "SOUTH        https://i.turner.ncaa.com/sites/default/files/...  "
      ]
     },
     "execution_count": 26,
     "metadata": {},
     "output_type": "execute_result"
    }
   ],
   "source": [
    "reg_col = []\n",
    "\n",
    "count = 0\n",
    "for i in range(64):\n",
    "    if i < 16:\n",
    "        reg_col.append(region_list[0])\n",
    "    elif(i<32):\n",
    "        reg_col.append(region_list[1])\n",
    "    elif (i == 32): \n",
    "        reg_col.append(region_list[2])\n",
    "    elif (i == 33):\n",
    "        reg_col.append(region_list[3])\n",
    "    elif( i<48):   \n",
    "        reg_col.append(region_list[2])\n",
    "    elif (i== 48):\n",
    "        reg_col.append(region_list[2])\n",
    "    elif ( i<64):\n",
    "        reg_col.append(region_list[3])\n",
    "    \n",
    "     \n",
    "reg_col.append('EAST')\n",
    "reg_col.append('EAST')\n",
    "reg_col.append('WEST')\n",
    "reg_col.append('MIDWEST')\n",
    "\n",
    "new_teams_mascot_df['Region Name']= reg_col\n",
    "\n",
    "new_teams_mascot_df.set_index('Region Name', inplace=True)\n",
    "new_teams_mascot_df.head()"
   ]
  },
  {
   "cell_type": "code",
   "execution_count": 29,
   "metadata": {},
   "outputs": [
    {
     "data": {
      "text/html": [
       "<div>\n",
       "<style scoped>\n",
       "    .dataframe tbody tr th:only-of-type {\n",
       "        vertical-align: middle;\n",
       "    }\n",
       "\n",
       "    .dataframe tbody tr th {\n",
       "        vertical-align: top;\n",
       "    }\n",
       "\n",
       "    .dataframe thead th {\n",
       "        text-align: right;\n",
       "    }\n",
       "</style>\n",
       "<table border=\"1\" class=\"dataframe\">\n",
       "  <thead>\n",
       "    <tr style=\"text-align: right;\">\n",
       "      <th></th>\n",
       "      <th>Team Seed</th>\n",
       "      <th>Team Name</th>\n",
       "      <th>Team Mascot</th>\n",
       "    </tr>\n",
       "    <tr>\n",
       "      <th>Region Name</th>\n",
       "      <th></th>\n",
       "      <th></th>\n",
       "      <th></th>\n",
       "    </tr>\n",
       "  </thead>\n",
       "  <tbody>\n",
       "    <tr>\n",
       "      <th>MIDWEST</th>\n",
       "      <td>1</td>\n",
       "      <td>Kansas</td>\n",
       "      <td>https://i.turner.ncaa.com/sites/default/files/...</td>\n",
       "    </tr>\n",
       "    <tr>\n",
       "      <th>MIDWEST</th>\n",
       "      <td>16</td>\n",
       "      <td>Penn</td>\n",
       "      <td>https://i.turner.ncaa.com/sites/default/files/...</td>\n",
       "    </tr>\n",
       "    <tr>\n",
       "      <th>MIDWEST</th>\n",
       "      <td>8</td>\n",
       "      <td>Seton Hall</td>\n",
       "      <td>https://i.turner.ncaa.com/sites/default/files/...</td>\n",
       "    </tr>\n",
       "    <tr>\n",
       "      <th>MIDWEST</th>\n",
       "      <td>9</td>\n",
       "      <td>North Carolina St.</td>\n",
       "      <td>https://i.turner.ncaa.com/sites/default/files/...</td>\n",
       "    </tr>\n",
       "    <tr>\n",
       "      <th>MIDWEST</th>\n",
       "      <td>5</td>\n",
       "      <td>Clemson</td>\n",
       "      <td>https://i.turner.ncaa.com/sites/default/files/...</td>\n",
       "    </tr>\n",
       "    <tr>\n",
       "      <th>MIDWEST</th>\n",
       "      <td>12</td>\n",
       "      <td>New Mexico St.</td>\n",
       "      <td>https://i.turner.ncaa.com/sites/default/files/...</td>\n",
       "    </tr>\n",
       "    <tr>\n",
       "      <th>MIDWEST</th>\n",
       "      <td>4</td>\n",
       "      <td>Auburn</td>\n",
       "      <td>https://i.turner.ncaa.com/sites/default/files/...</td>\n",
       "    </tr>\n",
       "    <tr>\n",
       "      <th>MIDWEST</th>\n",
       "      <td>13</td>\n",
       "      <td>Col. of Charleston</td>\n",
       "      <td>https://i.turner.ncaa.com/sites/default/files/...</td>\n",
       "    </tr>\n",
       "    <tr>\n",
       "      <th>MIDWEST</th>\n",
       "      <td>6</td>\n",
       "      <td>TCU</td>\n",
       "      <td>https://i.turner.ncaa.com/sites/default/files/...</td>\n",
       "    </tr>\n",
       "    <tr>\n",
       "      <th>MIDWEST</th>\n",
       "      <td>11</td>\n",
       "      <td>Syracuse</td>\n",
       "      <td>https://i.turner.ncaa.com/sites/default/files/...</td>\n",
       "    </tr>\n",
       "    <tr>\n",
       "      <th>MIDWEST</th>\n",
       "      <td>3</td>\n",
       "      <td>Michigan St.</td>\n",
       "      <td>https://i.turner.ncaa.com/sites/default/files/...</td>\n",
       "    </tr>\n",
       "    <tr>\n",
       "      <th>MIDWEST</th>\n",
       "      <td>14</td>\n",
       "      <td>Bucknell</td>\n",
       "      <td>https://i.turner.ncaa.com/sites/default/files/...</td>\n",
       "    </tr>\n",
       "    <tr>\n",
       "      <th>MIDWEST</th>\n",
       "      <td>7</td>\n",
       "      <td>Rhode Island</td>\n",
       "      <td>https://i.turner.ncaa.com/sites/default/files/...</td>\n",
       "    </tr>\n",
       "    <tr>\n",
       "      <th>MIDWEST</th>\n",
       "      <td>10</td>\n",
       "      <td>Oklahoma</td>\n",
       "      <td>https://i.turner.ncaa.com/sites/default/files/...</td>\n",
       "    </tr>\n",
       "    <tr>\n",
       "      <th>MIDWEST</th>\n",
       "      <td>2</td>\n",
       "      <td>Duke</td>\n",
       "      <td>https://i.turner.ncaa.com/sites/default/files/...</td>\n",
       "    </tr>\n",
       "    <tr>\n",
       "      <th>MIDWEST</th>\n",
       "      <td>15</td>\n",
       "      <td>Iona</td>\n",
       "      <td>https://i.turner.ncaa.com/sites/default/files/...</td>\n",
       "    </tr>\n",
       "    <tr>\n",
       "      <th>MIDWEST</th>\n",
       "      <td>11</td>\n",
       "      <td>Arizona St.</td>\n",
       "      <td>https://i.turner.ncaa.com/sites/default/files/...</td>\n",
       "    </tr>\n",
       "  </tbody>\n",
       "</table>\n",
       "</div>"
      ],
      "text/plain": [
       "            Team Seed           Team Name  \\\n",
       "Region Name                                 \n",
       "MIDWEST             1              Kansas   \n",
       "MIDWEST            16                Penn   \n",
       "MIDWEST             8          Seton Hall   \n",
       "MIDWEST             9  North Carolina St.   \n",
       "MIDWEST             5             Clemson   \n",
       "MIDWEST            12      New Mexico St.   \n",
       "MIDWEST             4              Auburn   \n",
       "MIDWEST            13  Col. of Charleston   \n",
       "MIDWEST             6                 TCU   \n",
       "MIDWEST            11            Syracuse   \n",
       "MIDWEST             3        Michigan St.   \n",
       "MIDWEST            14            Bucknell   \n",
       "MIDWEST             7        Rhode Island   \n",
       "MIDWEST            10            Oklahoma   \n",
       "MIDWEST             2                Duke   \n",
       "MIDWEST            15                Iona   \n",
       "MIDWEST            11         Arizona St.   \n",
       "\n",
       "                                                   Team Mascot  \n",
       "Region Name                                                     \n",
       "MIDWEST      https://i.turner.ncaa.com/sites/default/files/...  \n",
       "MIDWEST      https://i.turner.ncaa.com/sites/default/files/...  \n",
       "MIDWEST      https://i.turner.ncaa.com/sites/default/files/...  \n",
       "MIDWEST      https://i.turner.ncaa.com/sites/default/files/...  \n",
       "MIDWEST      https://i.turner.ncaa.com/sites/default/files/...  \n",
       "MIDWEST      https://i.turner.ncaa.com/sites/default/files/...  \n",
       "MIDWEST      https://i.turner.ncaa.com/sites/default/files/...  \n",
       "MIDWEST      https://i.turner.ncaa.com/sites/default/files/...  \n",
       "MIDWEST      https://i.turner.ncaa.com/sites/default/files/...  \n",
       "MIDWEST      https://i.turner.ncaa.com/sites/default/files/...  \n",
       "MIDWEST      https://i.turner.ncaa.com/sites/default/files/...  \n",
       "MIDWEST      https://i.turner.ncaa.com/sites/default/files/...  \n",
       "MIDWEST      https://i.turner.ncaa.com/sites/default/files/...  \n",
       "MIDWEST      https://i.turner.ncaa.com/sites/default/files/...  \n",
       "MIDWEST      https://i.turner.ncaa.com/sites/default/files/...  \n",
       "MIDWEST      https://i.turner.ncaa.com/sites/default/files/...  \n",
       "MIDWEST      https://i.turner.ncaa.com/sites/default/files/...  "
      ]
     },
     "execution_count": 29,
     "metadata": {},
     "output_type": "execute_result"
    }
   ],
   "source": [
    "south_df = new_teams_mascot_df.loc['MIDWEST']\n",
    "south_df"
   ]
  },
  {
   "cell_type": "code",
   "execution_count": 30,
   "metadata": {},
   "outputs": [],
   "source": [
    "new_teams_mascot_df.to_csv('static/Resources/team_mascot_seed_2018.csv',encoding='utf-8')"
   ]
  },
  {
   "cell_type": "code",
   "execution_count": 31,
   "metadata": {},
   "outputs": [
    {
     "data": {
      "text/plain": [
       "'<table border=\"1\" class=\"dataframe\">\\n  <thead>\\n    <tr style=\"text-align: right;\">\\n      <th></th>\\n      <th>Team Seed</th>\\n      <th>Team Name</th>\\n      <th>Team Mascot</th>\\n    </tr>\\n    <tr>\\n      <th>Region Name</th>\\n      <th></th>\\n      <th></th>\\n      <th></th>\\n    </tr>\\n  </thead>\\n  <tbody>\\n    <tr>\\n      <th>SOUTH</th>\\n      <td>1</td>\\n      <td>Virginia</td>\\n      <td>https://i.turner.ncaa.com/sites/default/files/...</td>\\n    </tr>\\n    <tr>\\n      <th>SOUTH</th>\\n      <td>16</td>\\n      <td>UMBC</td>\\n      <td>https://i.turner.ncaa.com/sites/default/files/...</td>\\n    </tr>\\n    <tr>\\n      <th>SOUTH</th>\\n      <td>8</td>\\n      <td>Creighton</td>\\n      <td>https://i.turner.ncaa.com/sites/default/files/...</td>\\n    </tr>\\n    <tr>\\n      <th>SOUTH</th>\\n      <td>9</td>\\n      <td>Kansas St.</td>\\n      <td>https://i.turner.ncaa.com/sites/default/files/...</td>\\n    </tr>\\n    <tr>\\n      <th>SOUTH</th>\\n      <td>5</td>\\n      <td>Kentucky</td>\\n      <td>https://i.turner.ncaa.com/sites/default/files/...</td>\\n    </tr>\\n    <tr>\\n      <th>SOUTH</th>\\n      <td>12</td>\\n      <td>Davidson</td>\\n      <td>https://i.turner.ncaa.com/sites/default/files/...</td>\\n    </tr>\\n    <tr>\\n      <th>SOUTH</th>\\n      <td>4</td>\\n      <td>Arizona</td>\\n      <td>https://i.turner.ncaa.com/sites/default/files/...</td>\\n    </tr>\\n    <tr>\\n      <th>SOUTH</th>\\n      <td>13</td>\\n      <td>Buffalo</td>\\n      <td>https://i.turner.ncaa.com/sites/default/files/...</td>\\n    </tr>\\n    <tr>\\n      <th>SOUTH</th>\\n      <td>6</td>\\n      <td>Miami (FL)</td>\\n      <td>https://i.turner.ncaa.com/sites/default/files/...</td>\\n    </tr>\\n    <tr>\\n      <th>SOUTH</th>\\n      <td>11</td>\\n      <td>Loyola (IL)</td>\\n      <td>https://i.turner.ncaa.com/sites/default/files/...</td>\\n    </tr>\\n    <tr>\\n      <th>SOUTH</th>\\n      <td>3</td>\\n      <td>Tennessee</td>\\n      <td>https://i.turner.ncaa.com/sites/default/files/...</td>\\n    </tr>\\n    <tr>\\n      <th>SOUTH</th>\\n      <td>14</td>\\n      <td>Wright St.</td>\\n      <td>https://i.turner.ncaa.com/sites/default/files/...</td>\\n    </tr>\\n    <tr>\\n      <th>SOUTH</th>\\n      <td>7</td>\\n      <td>Nevada</td>\\n      <td>https://i.turner.ncaa.com/sites/default/files/...</td>\\n    </tr>\\n    <tr>\\n      <th>SOUTH</th>\\n      <td>10</td>\\n      <td>Texas</td>\\n      <td>https://i.turner.ncaa.com/sites/default/files/...</td>\\n    </tr>\\n    <tr>\\n      <th>SOUTH</th>\\n      <td>2</td>\\n      <td>Cincinnati</td>\\n      <td>https://i.turner.ncaa.com/sites/default/files/...</td>\\n    </tr>\\n    <tr>\\n      <th>SOUTH</th>\\n      <td>15</td>\\n      <td>Georgia St.</td>\\n      <td>https://i.turner.ncaa.com/sites/default/files/...</td>\\n    </tr>\\n    <tr>\\n      <th>EAST</th>\\n      <td>1</td>\\n      <td>Villanova</td>\\n      <td>https://i.turner.ncaa.com/sites/default/files/...</td>\\n    </tr>\\n    <tr>\\n      <th>EAST</th>\\n      <td>16</td>\\n      <td>Radford</td>\\n      <td>https://i.turner.ncaa.com/sites/default/files/...</td>\\n    </tr>\\n    <tr>\\n      <th>EAST</th>\\n      <td>8</td>\\n      <td>Virginia Tech</td>\\n      <td>https://i.turner.ncaa.com/sites/default/files/...</td>\\n    </tr>\\n    <tr>\\n      <th>EAST</th>\\n      <td>9</td>\\n      <td>Alabama</td>\\n      <td>https://i.turner.ncaa.com/sites/default/files/...</td>\\n    </tr>\\n    <tr>\\n      <th>EAST</th>\\n      <td>5</td>\\n      <td>West Virginia</td>\\n      <td>https://i.turner.ncaa.com/sites/default/files/...</td>\\n    </tr>\\n    <tr>\\n      <th>EAST</th>\\n      <td>12</td>\\n      <td>Murray St.</td>\\n      <td>https://i.turner.ncaa.com/sites/default/files/...</td>\\n    </tr>\\n    <tr>\\n      <th>EAST</th>\\n      <td>4</td>\\n      <td>Wichita St.</td>\\n      <td>https://i.turner.ncaa.com/sites/default/files/...</td>\\n    </tr>\\n    <tr>\\n      <th>EAST</th>\\n      <td>13</td>\\n      <td>Marshall</td>\\n      <td>https://i.turner.ncaa.com/sites/default/files/...</td>\\n    </tr>\\n    <tr>\\n      <th>EAST</th>\\n      <td>6</td>\\n      <td>Florida</td>\\n      <td>https://i.turner.ncaa.com/sites/default/files/...</td>\\n    </tr>\\n    <tr>\\n      <th>EAST</th>\\n      <td>11</td>\\n      <td>St. Bonaventure</td>\\n      <td>https://i.turner.ncaa.com/sites/default/files/...</td>\\n    </tr>\\n    <tr>\\n      <th>EAST</th>\\n      <td>3</td>\\n      <td>Texas Tech</td>\\n      <td>https://i.turner.ncaa.com/sites/default/files/...</td>\\n    </tr>\\n    <tr>\\n      <th>EAST</th>\\n      <td>14</td>\\n      <td>Stephen F. Austin</td>\\n      <td>https://i.turner.ncaa.com/sites/default/files/...</td>\\n    </tr>\\n    <tr>\\n      <th>EAST</th>\\n      <td>7</td>\\n      <td>Arkansas</td>\\n      <td>https://i.turner.ncaa.com/sites/default/files/...</td>\\n    </tr>\\n    <tr>\\n      <th>EAST</th>\\n      <td>10</td>\\n      <td>Butler</td>\\n      <td>https://i.turner.ncaa.com/sites/default/files/...</td>\\n    </tr>\\n    <tr>\\n      <th>EAST</th>\\n      <td>2</td>\\n      <td>Purdue</td>\\n      <td>https://i.turner.ncaa.com/sites/default/files/...</td>\\n    </tr>\\n    <tr>\\n      <th>EAST</th>\\n      <td>15</td>\\n      <td>Cal St. Fullerton</td>\\n      <td>https://i.turner.ncaa.com/sites/default/files/...</td>\\n    </tr>\\n    <tr>\\n      <th>WEST</th>\\n      <td>3</td>\\n      <td>Michigan</td>\\n      <td>https://i.turner.ncaa.com/sites/default/files/...</td>\\n    </tr>\\n    <tr>\\n      <th>MIDWEST</th>\\n      <td>1</td>\\n      <td>Kansas</td>\\n      <td>https://i.turner.ncaa.com/sites/default/files/...</td>\\n    </tr>\\n    <tr>\\n      <th>WEST</th>\\n      <td>1</td>\\n      <td>Xavier</td>\\n      <td>https://i.turner.ncaa.com/sites/default/files/...</td>\\n    </tr>\\n    <tr>\\n      <th>WEST</th>\\n      <td>16</td>\\n      <td>Texas Southern</td>\\n      <td>https://i.turner.ncaa.com/sites/default/files/...</td>\\n    </tr>\\n    <tr>\\n      <th>WEST</th>\\n      <td>8</td>\\n      <td>Missouri</td>\\n      <td>https://i.turner.ncaa.com/sites/default/files/...</td>\\n    </tr>\\n    <tr>\\n      <th>WEST</th>\\n      <td>9</td>\\n      <td>Florida St.</td>\\n      <td>https://i.turner.ncaa.com/sites/default/files/...</td>\\n    </tr>\\n    <tr>\\n      <th>WEST</th>\\n      <td>5</td>\\n      <td>Ohio St.</td>\\n      <td>https://i.turner.ncaa.com/sites/default/files/...</td>\\n    </tr>\\n    <tr>\\n      <th>WEST</th>\\n      <td>12</td>\\n      <td>South Dakota St.</td>\\n      <td>https://i.turner.ncaa.com/sites/default/files/...</td>\\n    </tr>\\n    <tr>\\n      <th>WEST</th>\\n      <td>4</td>\\n      <td>Gonzaga</td>\\n      <td>https://i.turner.ncaa.com/sites/default/files/...</td>\\n    </tr>\\n    <tr>\\n      <th>WEST</th>\\n      <td>13</td>\\n      <td>UNC Greensboro</td>\\n      <td>https://i.turner.ncaa.com/sites/default/files/...</td>\\n    </tr>\\n    <tr>\\n      <th>WEST</th>\\n      <td>6</td>\\n      <td>Houston</td>\\n      <td>https://i.turner.ncaa.com/sites/default/files/...</td>\\n    </tr>\\n    <tr>\\n      <th>WEST</th>\\n      <td>11</td>\\n      <td>San Diego St.</td>\\n      <td>https://i.turner.ncaa.com/sites/default/files/...</td>\\n    </tr>\\n    <tr>\\n      <th>WEST</th>\\n      <td>14</td>\\n      <td>Montana</td>\\n      <td>https://i.turner.ncaa.com/sites/default/files/...</td>\\n    </tr>\\n    <tr>\\n      <th>WEST</th>\\n      <td>7</td>\\n      <td>Texas A&amp;M</td>\\n      <td>https://i.turner.ncaa.com/sites/default/files/...</td>\\n    </tr>\\n    <tr>\\n      <th>WEST</th>\\n      <td>10</td>\\n      <td>Providence</td>\\n      <td>https://i.turner.ncaa.com/sites/default/files/...</td>\\n    </tr>\\n    <tr>\\n      <th>WEST</th>\\n      <td>2</td>\\n      <td>North Carolina</td>\\n      <td>https://i.turner.ncaa.com/sites/default/files/...</td>\\n    </tr>\\n    <tr>\\n      <th>WEST</th>\\n      <td>15</td>\\n      <td>Lipscomb</td>\\n      <td>https://i.turner.ncaa.com/sites/default/files/...</td>\\n    </tr>\\n    <tr>\\n      <th>MIDWEST</th>\\n      <td>16</td>\\n      <td>Penn</td>\\n      <td>https://i.turner.ncaa.com/sites/default/files/...</td>\\n    </tr>\\n    <tr>\\n      <th>MIDWEST</th>\\n      <td>8</td>\\n      <td>Seton Hall</td>\\n      <td>https://i.turner.ncaa.com/sites/default/files/...</td>\\n    </tr>\\n    <tr>\\n      <th>MIDWEST</th>\\n      <td>9</td>\\n      <td>North Carolina St.</td>\\n      <td>https://i.turner.ncaa.com/sites/default/files/...</td>\\n    </tr>\\n    <tr>\\n      <th>MIDWEST</th>\\n      <td>5</td>\\n      <td>Clemson</td>\\n      <td>https://i.turner.ncaa.com/sites/default/files/...</td>\\n    </tr>\\n    <tr>\\n      <th>MIDWEST</th>\\n      <td>12</td>\\n      <td>New Mexico St.</td>\\n      <td>https://i.turner.ncaa.com/sites/default/files/...</td>\\n    </tr>\\n    <tr>\\n      <th>MIDWEST</th>\\n      <td>4</td>\\n      <td>Auburn</td>\\n      <td>https://i.turner.ncaa.com/sites/default/files/...</td>\\n    </tr>\\n    <tr>\\n      <th>MIDWEST</th>\\n      <td>13</td>\\n      <td>Col. of Charleston</td>\\n      <td>https://i.turner.ncaa.com/sites/default/files/...</td>\\n    </tr>\\n    <tr>\\n      <th>MIDWEST</th>\\n      <td>6</td>\\n      <td>TCU</td>\\n      <td>https://i.turner.ncaa.com/sites/default/files/...</td>\\n    </tr>\\n    <tr>\\n      <th>MIDWEST</th>\\n      <td>11</td>\\n      <td>Syracuse</td>\\n      <td>https://i.turner.ncaa.com/sites/default/files/...</td>\\n    </tr>\\n    <tr>\\n      <th>MIDWEST</th>\\n      <td>3</td>\\n      <td>Michigan St.</td>\\n      <td>https://i.turner.ncaa.com/sites/default/files/...</td>\\n    </tr>\\n    <tr>\\n      <th>MIDWEST</th>\\n      <td>14</td>\\n      <td>Bucknell</td>\\n      <td>https://i.turner.ncaa.com/sites/default/files/...</td>\\n    </tr>\\n    <tr>\\n      <th>MIDWEST</th>\\n      <td>7</td>\\n      <td>Rhode Island</td>\\n      <td>https://i.turner.ncaa.com/sites/default/files/...</td>\\n    </tr>\\n    <tr>\\n      <th>MIDWEST</th>\\n      <td>10</td>\\n      <td>Oklahoma</td>\\n      <td>https://i.turner.ncaa.com/sites/default/files/...</td>\\n    </tr>\\n    <tr>\\n      <th>MIDWEST</th>\\n      <td>2</td>\\n      <td>Duke</td>\\n      <td>https://i.turner.ncaa.com/sites/default/files/...</td>\\n    </tr>\\n    <tr>\\n      <th>MIDWEST</th>\\n      <td>15</td>\\n      <td>Iona</td>\\n      <td>https://i.turner.ncaa.com/sites/default/files/...</td>\\n    </tr>\\n    <tr>\\n      <th>EAST</th>\\n      <td>16</td>\\n      <td>Long Island</td>\\n      <td>https://i.turner.ncaa.com/sites/default/files/...</td>\\n    </tr>\\n    <tr>\\n      <th>EAST</th>\\n      <td>11</td>\\n      <td>UCLA</td>\\n      <td>https://i.turner.ncaa.com/sites/default/files/...</td>\\n    </tr>\\n    <tr>\\n      <th>WEST</th>\\n      <td>16</td>\\n      <td>N.C. Central</td>\\n      <td>https://i.turner.ncaa.com/sites/default/files/...</td>\\n    </tr>\\n    <tr>\\n      <th>MIDWEST</th>\\n      <td>11</td>\\n      <td>Arizona St.</td>\\n      <td>https://i.turner.ncaa.com/sites/default/files/...</td>\\n    </tr>\\n  </tbody>\\n</table>'"
      ]
     },
     "execution_count": 31,
     "metadata": {},
     "output_type": "execute_result"
    }
   ],
   "source": [
    "html_table = new_teams_mascot_df.to_html()\n",
    "\n",
    "html_table"
   ]
  },
  {
   "cell_type": "code",
   "execution_count": 32,
   "metadata": {},
   "outputs": [
    {
     "data": {
      "text/plain": [
       "'<table border=\"1\" class=\"dataframe\">  <thead>    <tr style=\"text-align: right;\">      <th></th>      <th>Team Seed</th>      <th>Team Name</th>      <th>Team Mascot</th>    </tr>    <tr>      <th>Region Name</th>      <th></th>      <th></th>      <th></th>    </tr>  </thead>  <tbody>    <tr>      <th>SOUTH</th>      <td>1</td>      <td>Virginia</td>      <td>https://i.turner.ncaa.com/sites/default/files/...</td>    </tr>    <tr>      <th>SOUTH</th>      <td>16</td>      <td>UMBC</td>      <td>https://i.turner.ncaa.com/sites/default/files/...</td>    </tr>    <tr>      <th>SOUTH</th>      <td>8</td>      <td>Creighton</td>      <td>https://i.turner.ncaa.com/sites/default/files/...</td>    </tr>    <tr>      <th>SOUTH</th>      <td>9</td>      <td>Kansas St.</td>      <td>https://i.turner.ncaa.com/sites/default/files/...</td>    </tr>    <tr>      <th>SOUTH</th>      <td>5</td>      <td>Kentucky</td>      <td>https://i.turner.ncaa.com/sites/default/files/...</td>    </tr>    <tr>      <th>SOUTH</th>      <td>12</td>      <td>Davidson</td>      <td>https://i.turner.ncaa.com/sites/default/files/...</td>    </tr>    <tr>      <th>SOUTH</th>      <td>4</td>      <td>Arizona</td>      <td>https://i.turner.ncaa.com/sites/default/files/...</td>    </tr>    <tr>      <th>SOUTH</th>      <td>13</td>      <td>Buffalo</td>      <td>https://i.turner.ncaa.com/sites/default/files/...</td>    </tr>    <tr>      <th>SOUTH</th>      <td>6</td>      <td>Miami (FL)</td>      <td>https://i.turner.ncaa.com/sites/default/files/...</td>    </tr>    <tr>      <th>SOUTH</th>      <td>11</td>      <td>Loyola (IL)</td>      <td>https://i.turner.ncaa.com/sites/default/files/...</td>    </tr>    <tr>      <th>SOUTH</th>      <td>3</td>      <td>Tennessee</td>      <td>https://i.turner.ncaa.com/sites/default/files/...</td>    </tr>    <tr>      <th>SOUTH</th>      <td>14</td>      <td>Wright St.</td>      <td>https://i.turner.ncaa.com/sites/default/files/...</td>    </tr>    <tr>      <th>SOUTH</th>      <td>7</td>      <td>Nevada</td>      <td>https://i.turner.ncaa.com/sites/default/files/...</td>    </tr>    <tr>      <th>SOUTH</th>      <td>10</td>      <td>Texas</td>      <td>https://i.turner.ncaa.com/sites/default/files/...</td>    </tr>    <tr>      <th>SOUTH</th>      <td>2</td>      <td>Cincinnati</td>      <td>https://i.turner.ncaa.com/sites/default/files/...</td>    </tr>    <tr>      <th>SOUTH</th>      <td>15</td>      <td>Georgia St.</td>      <td>https://i.turner.ncaa.com/sites/default/files/...</td>    </tr>    <tr>      <th>EAST</th>      <td>1</td>      <td>Villanova</td>      <td>https://i.turner.ncaa.com/sites/default/files/...</td>    </tr>    <tr>      <th>EAST</th>      <td>16</td>      <td>Radford</td>      <td>https://i.turner.ncaa.com/sites/default/files/...</td>    </tr>    <tr>      <th>EAST</th>      <td>8</td>      <td>Virginia Tech</td>      <td>https://i.turner.ncaa.com/sites/default/files/...</td>    </tr>    <tr>      <th>EAST</th>      <td>9</td>      <td>Alabama</td>      <td>https://i.turner.ncaa.com/sites/default/files/...</td>    </tr>    <tr>      <th>EAST</th>      <td>5</td>      <td>West Virginia</td>      <td>https://i.turner.ncaa.com/sites/default/files/...</td>    </tr>    <tr>      <th>EAST</th>      <td>12</td>      <td>Murray St.</td>      <td>https://i.turner.ncaa.com/sites/default/files/...</td>    </tr>    <tr>      <th>EAST</th>      <td>4</td>      <td>Wichita St.</td>      <td>https://i.turner.ncaa.com/sites/default/files/...</td>    </tr>    <tr>      <th>EAST</th>      <td>13</td>      <td>Marshall</td>      <td>https://i.turner.ncaa.com/sites/default/files/...</td>    </tr>    <tr>      <th>EAST</th>      <td>6</td>      <td>Florida</td>      <td>https://i.turner.ncaa.com/sites/default/files/...</td>    </tr>    <tr>      <th>EAST</th>      <td>11</td>      <td>St. Bonaventure</td>      <td>https://i.turner.ncaa.com/sites/default/files/...</td>    </tr>    <tr>      <th>EAST</th>      <td>3</td>      <td>Texas Tech</td>      <td>https://i.turner.ncaa.com/sites/default/files/...</td>    </tr>    <tr>      <th>EAST</th>      <td>14</td>      <td>Stephen F. Austin</td>      <td>https://i.turner.ncaa.com/sites/default/files/...</td>    </tr>    <tr>      <th>EAST</th>      <td>7</td>      <td>Arkansas</td>      <td>https://i.turner.ncaa.com/sites/default/files/...</td>    </tr>    <tr>      <th>EAST</th>      <td>10</td>      <td>Butler</td>      <td>https://i.turner.ncaa.com/sites/default/files/...</td>    </tr>    <tr>      <th>EAST</th>      <td>2</td>      <td>Purdue</td>      <td>https://i.turner.ncaa.com/sites/default/files/...</td>    </tr>    <tr>      <th>EAST</th>      <td>15</td>      <td>Cal St. Fullerton</td>      <td>https://i.turner.ncaa.com/sites/default/files/...</td>    </tr>    <tr>      <th>WEST</th>      <td>3</td>      <td>Michigan</td>      <td>https://i.turner.ncaa.com/sites/default/files/...</td>    </tr>    <tr>      <th>MIDWEST</th>      <td>1</td>      <td>Kansas</td>      <td>https://i.turner.ncaa.com/sites/default/files/...</td>    </tr>    <tr>      <th>WEST</th>      <td>1</td>      <td>Xavier</td>      <td>https://i.turner.ncaa.com/sites/default/files/...</td>    </tr>    <tr>      <th>WEST</th>      <td>16</td>      <td>Texas Southern</td>      <td>https://i.turner.ncaa.com/sites/default/files/...</td>    </tr>    <tr>      <th>WEST</th>      <td>8</td>      <td>Missouri</td>      <td>https://i.turner.ncaa.com/sites/default/files/...</td>    </tr>    <tr>      <th>WEST</th>      <td>9</td>      <td>Florida St.</td>      <td>https://i.turner.ncaa.com/sites/default/files/...</td>    </tr>    <tr>      <th>WEST</th>      <td>5</td>      <td>Ohio St.</td>      <td>https://i.turner.ncaa.com/sites/default/files/...</td>    </tr>    <tr>      <th>WEST</th>      <td>12</td>      <td>South Dakota St.</td>      <td>https://i.turner.ncaa.com/sites/default/files/...</td>    </tr>    <tr>      <th>WEST</th>      <td>4</td>      <td>Gonzaga</td>      <td>https://i.turner.ncaa.com/sites/default/files/...</td>    </tr>    <tr>      <th>WEST</th>      <td>13</td>      <td>UNC Greensboro</td>      <td>https://i.turner.ncaa.com/sites/default/files/...</td>    </tr>    <tr>      <th>WEST</th>      <td>6</td>      <td>Houston</td>      <td>https://i.turner.ncaa.com/sites/default/files/...</td>    </tr>    <tr>      <th>WEST</th>      <td>11</td>      <td>San Diego St.</td>      <td>https://i.turner.ncaa.com/sites/default/files/...</td>    </tr>    <tr>      <th>WEST</th>      <td>14</td>      <td>Montana</td>      <td>https://i.turner.ncaa.com/sites/default/files/...</td>    </tr>    <tr>      <th>WEST</th>      <td>7</td>      <td>Texas A&amp;M</td>      <td>https://i.turner.ncaa.com/sites/default/files/...</td>    </tr>    <tr>      <th>WEST</th>      <td>10</td>      <td>Providence</td>      <td>https://i.turner.ncaa.com/sites/default/files/...</td>    </tr>    <tr>      <th>WEST</th>      <td>2</td>      <td>North Carolina</td>      <td>https://i.turner.ncaa.com/sites/default/files/...</td>    </tr>    <tr>      <th>WEST</th>      <td>15</td>      <td>Lipscomb</td>      <td>https://i.turner.ncaa.com/sites/default/files/...</td>    </tr>    <tr>      <th>MIDWEST</th>      <td>16</td>      <td>Penn</td>      <td>https://i.turner.ncaa.com/sites/default/files/...</td>    </tr>    <tr>      <th>MIDWEST</th>      <td>8</td>      <td>Seton Hall</td>      <td>https://i.turner.ncaa.com/sites/default/files/...</td>    </tr>    <tr>      <th>MIDWEST</th>      <td>9</td>      <td>North Carolina St.</td>      <td>https://i.turner.ncaa.com/sites/default/files/...</td>    </tr>    <tr>      <th>MIDWEST</th>      <td>5</td>      <td>Clemson</td>      <td>https://i.turner.ncaa.com/sites/default/files/...</td>    </tr>    <tr>      <th>MIDWEST</th>      <td>12</td>      <td>New Mexico St.</td>      <td>https://i.turner.ncaa.com/sites/default/files/...</td>    </tr>    <tr>      <th>MIDWEST</th>      <td>4</td>      <td>Auburn</td>      <td>https://i.turner.ncaa.com/sites/default/files/...</td>    </tr>    <tr>      <th>MIDWEST</th>      <td>13</td>      <td>Col. of Charleston</td>      <td>https://i.turner.ncaa.com/sites/default/files/...</td>    </tr>    <tr>      <th>MIDWEST</th>      <td>6</td>      <td>TCU</td>      <td>https://i.turner.ncaa.com/sites/default/files/...</td>    </tr>    <tr>      <th>MIDWEST</th>      <td>11</td>      <td>Syracuse</td>      <td>https://i.turner.ncaa.com/sites/default/files/...</td>    </tr>    <tr>      <th>MIDWEST</th>      <td>3</td>      <td>Michigan St.</td>      <td>https://i.turner.ncaa.com/sites/default/files/...</td>    </tr>    <tr>      <th>MIDWEST</th>      <td>14</td>      <td>Bucknell</td>      <td>https://i.turner.ncaa.com/sites/default/files/...</td>    </tr>    <tr>      <th>MIDWEST</th>      <td>7</td>      <td>Rhode Island</td>      <td>https://i.turner.ncaa.com/sites/default/files/...</td>    </tr>    <tr>      <th>MIDWEST</th>      <td>10</td>      <td>Oklahoma</td>      <td>https://i.turner.ncaa.com/sites/default/files/...</td>    </tr>    <tr>      <th>MIDWEST</th>      <td>2</td>      <td>Duke</td>      <td>https://i.turner.ncaa.com/sites/default/files/...</td>    </tr>    <tr>      <th>MIDWEST</th>      <td>15</td>      <td>Iona</td>      <td>https://i.turner.ncaa.com/sites/default/files/...</td>    </tr>    <tr>      <th>EAST</th>      <td>16</td>      <td>Long Island</td>      <td>https://i.turner.ncaa.com/sites/default/files/...</td>    </tr>    <tr>      <th>EAST</th>      <td>11</td>      <td>UCLA</td>      <td>https://i.turner.ncaa.com/sites/default/files/...</td>    </tr>    <tr>      <th>WEST</th>      <td>16</td>      <td>N.C. Central</td>      <td>https://i.turner.ncaa.com/sites/default/files/...</td>    </tr>    <tr>      <th>MIDWEST</th>      <td>11</td>      <td>Arizona St.</td>      <td>https://i.turner.ncaa.com/sites/default/files/...</td>    </tr>  </tbody></table>'"
      ]
     },
     "execution_count": 32,
     "metadata": {},
     "output_type": "execute_result"
    }
   ],
   "source": [
    "html_table.replace('\\n', '')"
   ]
  },
  {
   "cell_type": "code",
   "execution_count": 33,
   "metadata": {},
   "outputs": [],
   "source": [
    "new_teams_mascot_df.to_html('table.html')"
   ]
  },
  {
   "cell_type": "code",
   "execution_count": 34,
   "metadata": {},
   "outputs": [],
   "source": [
    "with dw.open_remote_file('rustygentile/ncaa-etl', 'team_mascot_2018.csv') as w:\n",
    "   new_teams_mascot_df.to_csv(w, index=False)\n"
   ]
  },
  {
   "cell_type": "code",
   "execution_count": null,
   "metadata": {},
   "outputs": [],
   "source": []
  }
 ],
 "metadata": {
  "kernelspec": {
   "display_name": "Python 3",
   "language": "python",
   "name": "python3"
  },
  "language_info": {
   "codemirror_mode": {
    "name": "ipython",
    "version": 3
   },
   "file_extension": ".py",
   "mimetype": "text/x-python",
   "name": "python",
   "nbconvert_exporter": "python",
   "pygments_lexer": "ipython3",
   "version": "3.6.6"
  },
  "varInspector": {
   "cols": {
    "lenName": 16,
    "lenType": 16,
    "lenVar": 40
   },
   "kernels_config": {
    "python": {
     "delete_cmd_postfix": "",
     "delete_cmd_prefix": "del ",
     "library": "var_list.py",
     "varRefreshCmd": "print(var_dic_list())"
    },
    "r": {
     "delete_cmd_postfix": ") ",
     "delete_cmd_prefix": "rm(",
     "library": "var_list.r",
     "varRefreshCmd": "cat(var_dic_list()) "
    }
   },
   "types_to_exclude": [
    "module",
    "function",
    "builtin_function_or_method",
    "instance",
    "_Feature"
   ],
   "window_display": false
  }
 },
 "nbformat": 4,
 "nbformat_minor": 2
}
