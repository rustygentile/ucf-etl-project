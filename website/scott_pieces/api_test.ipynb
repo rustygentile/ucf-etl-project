{
 "cells": [
  {
   "cell_type": "code",
   "execution_count": 1,
   "metadata": {},
   "outputs": [],
   "source": [
    "import numpy as np\n",
    "import pandas as pd\n",
    "import json\n",
    "from pprint import pprint\n",
    "import datetime as dt\n",
    "from jsonify import convert\n",
    "\n",
    "# Python SQL toolkit and Object Relational Mapper\n",
    "import sqlalchemy\n",
    "from sqlalchemy.ext.automap import automap_base\n",
    "from sqlalchemy.orm import Session\n",
    "from sqlalchemy import create_engine, func\n",
    "\n",
    "from flask import Flask, jsonify\n",
    "from sqlalchemy.pool import StaticPool"
   ]
  },
  {
   "cell_type": "code",
   "execution_count": 131,
   "metadata": {},
   "outputs": [],
   "source": [
    "teams_csv = pd.read_csv('player-list-full-2017.csv')\n",
    "\n",
    "teams_json = convert.jsonify('player-list-full-2017.csv')\n",
    "\n",
    "\n",
    "df = pd.DataFrame(teams_csv['name'][teams_csv['name'].apply(lambda x: x.replace(' ', '_'))]).drop('name', axis=1).reset_index()\n",
    "df\n",
    "teams_csv['Player_Name'] = df['name']\n",
    "teams_csv\n",
    "player_csv = teams_csv.drop('name', axis=1)\n",
    "player_csv\n",
    "player_csv.to_csv('player-list_2017.csv')\n"
   ]
  },
  {
   "cell_type": "code",
   "execution_count": 6,
   "metadata": {},
   "outputs": [],
   "source": [
    "\n",
    "teams_json = convert.jsonify('player_stats-elite_eight-2018.csv')"
   ]
  },
  {
   "cell_type": "code",
   "execution_count": 5,
   "metadata": {},
   "outputs": [],
   "source": [
    "# Convert csv to json.\n",
    "convert.jsonify('player_stats-elite_eight-2018.csv')"
   ]
  },
  {
   "cell_type": "code",
   "execution_count": 134,
   "metadata": {},
   "outputs": [
    {
     "name": "stdout",
     "output_type": "stream",
     "text": [
      "{'': '1', 'Player_Name': 'Quentin_Goodin', 'player_id': '364', 'position_id': '1', 'position_name': 'gaurd', 'team_id': '60', 'team_name': 'Xavier'}\n"
     ]
    }
   ],
   "source": [
    "with open('player-list_2017.json') as json_data:\n",
    "    player_test = json.load(json_data)\n",
    "\n",
    "for player in player_test:\n",
    "    if player['Player_Name'] == 'Quentin_Goodin':\n",
    "        print(player)"
   ]
  },
  {
   "cell_type": "code",
   "execution_count": 40,
   "metadata": {},
   "outputs": [
    {
     "name": "stdout",
     "output_type": "stream",
     "text": [
      "{'id': '63', 'mascot': 'NULL', 'name': 'Arizona', 'region_id': '3'}\n"
     ]
    }
   ],
   "source": [
    "for team in team_test:\n",
    "    if team['name'] == 'Arizona':\n",
    "        print(team)"
   ]
  }
 ],
 "metadata": {
  "kernelspec": {
   "display_name": "Python 3",
   "language": "python",
   "name": "python3"
  },
  "language_info": {
   "codemirror_mode": {
    "name": "ipython",
    "version": 3
   },
   "file_extension": ".py",
   "mimetype": "text/x-python",
   "name": "python",
   "nbconvert_exporter": "python",
   "pygments_lexer": "ipython3",
   "version": "3.6.5"
  }
 },
 "nbformat": 4,
 "nbformat_minor": 2
}
