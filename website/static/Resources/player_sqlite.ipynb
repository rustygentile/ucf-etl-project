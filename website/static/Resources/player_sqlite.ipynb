{
 "cells": [
  {
   "cell_type": "code",
   "execution_count": 1,
   "metadata": {},
   "outputs": [],
   "source": [
    "import pandas as pd\n",
    "\n",
    "# schalchemy dependencies\n",
    "from sqlalchemy import create_engine, MetaData\n",
    "from sqlalchemy.ext.declarative import declarative_base\n",
    "from sqlalchemy import Column, Integer, String, Numeric, Text, Float, ForeignKey\n",
    "from sqlalchemy.orm import sessionmaker, relationship"
   ]
  },
  {
   "cell_type": "code",
   "execution_count": 2,
   "metadata": {},
   "outputs": [],
   "source": [
    "Base = declarative_base()"
   ]
  },
  {
   "cell_type": "code",
   "execution_count": 3,
   "metadata": {},
   "outputs": [
    {
     "data": {
      "text/html": [
       "<div>\n",
       "<style scoped>\n",
       "    .dataframe tbody tr th:only-of-type {\n",
       "        vertical-align: middle;\n",
       "    }\n",
       "\n",
       "    .dataframe tbody tr th {\n",
       "        vertical-align: top;\n",
       "    }\n",
       "\n",
       "    .dataframe thead th {\n",
       "        text-align: right;\n",
       "    }\n",
       "</style>\n",
       "<table border=\"1\" class=\"dataframe\">\n",
       "  <thead>\n",
       "    <tr style=\"text-align: right;\">\n",
       "      <th></th>\n",
       "      <th>Rank</th>\n",
       "      <th>Name</th>\n",
       "      <th>Team</th>\n",
       "      <th>Cl</th>\n",
       "      <th>Ht</th>\n",
       "      <th>Pos</th>\n",
       "      <th>G</th>\n",
       "      <th>FGM</th>\n",
       "      <th>FT</th>\n",
       "      <th>PTS</th>\n",
       "    </tr>\n",
       "  </thead>\n",
       "  <tbody>\n",
       "    <tr>\n",
       "      <th>0</th>\n",
       "      <td>1</td>\n",
       "      <td>Mike Daum</td>\n",
       "      <td>South Dakota St.</td>\n",
       "      <td>Sr.</td>\n",
       "      <td>9-Jun</td>\n",
       "      <td>F</td>\n",
       "      <td>12</td>\n",
       "      <td>107</td>\n",
       "      <td>72</td>\n",
       "      <td>314</td>\n",
       "    </tr>\n",
       "    <tr>\n",
       "      <th>1</th>\n",
       "      <td>2</td>\n",
       "      <td>Justin Wright-Foreman</td>\n",
       "      <td>Hofstra</td>\n",
       "      <td>Sr.</td>\n",
       "      <td>2-Jun</td>\n",
       "      <td>G</td>\n",
       "      <td>11</td>\n",
       "      <td>98</td>\n",
       "      <td>59</td>\n",
       "      <td>283</td>\n",
       "    </tr>\n",
       "    <tr>\n",
       "      <th>2</th>\n",
       "      <td>3</td>\n",
       "      <td>Chris Clemons</td>\n",
       "      <td>Campbell</td>\n",
       "      <td>Sr.</td>\n",
       "      <td>9-May</td>\n",
       "      <td>G</td>\n",
       "      <td>9</td>\n",
       "      <td>86</td>\n",
       "      <td>75</td>\n",
       "      <td>279</td>\n",
       "    </tr>\n",
       "    <tr>\n",
       "      <th>3</th>\n",
       "      <td>4</td>\n",
       "      <td>Antoine Davis</td>\n",
       "      <td>Detroit Mercy</td>\n",
       "      <td>Fr.</td>\n",
       "      <td>1-Jun</td>\n",
       "      <td>G</td>\n",
       "      <td>10</td>\n",
       "      <td>95</td>\n",
       "      <td>30</td>\n",
       "      <td>274</td>\n",
       "    </tr>\n",
       "    <tr>\n",
       "      <th>4</th>\n",
       "      <td>5</td>\n",
       "      <td>Yoeli Childs</td>\n",
       "      <td>BYU</td>\n",
       "      <td>Jr.</td>\n",
       "      <td>8-Jun</td>\n",
       "      <td>F</td>\n",
       "      <td>12</td>\n",
       "      <td>108</td>\n",
       "      <td>46</td>\n",
       "      <td>273</td>\n",
       "    </tr>\n",
       "  </tbody>\n",
       "</table>\n",
       "</div>"
      ],
      "text/plain": [
       "   Rank                   Name              Team   Cl     Ht Pos   G  FGM  FT  \\\n",
       "0     1              Mike Daum  South Dakota St.  Sr.  9-Jun   F  12  107  72   \n",
       "1     2  Justin Wright-Foreman           Hofstra  Sr.  2-Jun   G  11   98  59   \n",
       "2     3          Chris Clemons          Campbell  Sr.  9-May   G   9   86  75   \n",
       "3     4          Antoine Davis     Detroit Mercy  Fr.  1-Jun   G  10   95  30   \n",
       "4     5           Yoeli Childs               BYU  Jr.  8-Jun   F  12  108  46   \n",
       "\n",
       "   PTS  \n",
       "0  314  \n",
       "1  283  \n",
       "2  279  \n",
       "3  274  \n",
       "4  273  "
      ]
     },
     "execution_count": 3,
     "metadata": {},
     "output_type": "execute_result"
    }
   ],
   "source": [
    "ranking_csv = pd.read_csv('rankings.csv')\n",
    "\n",
    "ranking_csv.head()"
   ]
  },
  {
   "cell_type": "code",
   "execution_count": 4,
   "metadata": {},
   "outputs": [
    {
     "data": {
      "text/html": [
       "<div>\n",
       "<style scoped>\n",
       "    .dataframe tbody tr th:only-of-type {\n",
       "        vertical-align: middle;\n",
       "    }\n",
       "\n",
       "    .dataframe tbody tr th {\n",
       "        vertical-align: top;\n",
       "    }\n",
       "\n",
       "    .dataframe thead th {\n",
       "        text-align: right;\n",
       "    }\n",
       "</style>\n",
       "<table border=\"1\" class=\"dataframe\">\n",
       "  <thead>\n",
       "    <tr style=\"text-align: right;\">\n",
       "      <th></th>\n",
       "      <th>Rank</th>\n",
       "      <th>Name</th>\n",
       "      <th>Team</th>\n",
       "      <th>Cl</th>\n",
       "      <th>Ht</th>\n",
       "      <th>Pos</th>\n",
       "      <th>G</th>\n",
       "      <th>FGM</th>\n",
       "      <th>FT</th>\n",
       "      <th>PTS</th>\n",
       "    </tr>\n",
       "  </thead>\n",
       "  <tbody>\n",
       "    <tr>\n",
       "      <th>0</th>\n",
       "      <td>1</td>\n",
       "      <td>Mike Daum</td>\n",
       "      <td>South Dakota St.</td>\n",
       "      <td>Sr.</td>\n",
       "      <td>9-Jun</td>\n",
       "      <td>F</td>\n",
       "      <td>12</td>\n",
       "      <td>107</td>\n",
       "      <td>72</td>\n",
       "      <td>314</td>\n",
       "    </tr>\n",
       "    <tr>\n",
       "      <th>1</th>\n",
       "      <td>2</td>\n",
       "      <td>Justin Wright-Foreman</td>\n",
       "      <td>Hofstra</td>\n",
       "      <td>Sr.</td>\n",
       "      <td>2-Jun</td>\n",
       "      <td>G</td>\n",
       "      <td>11</td>\n",
       "      <td>98</td>\n",
       "      <td>59</td>\n",
       "      <td>283</td>\n",
       "    </tr>\n",
       "    <tr>\n",
       "      <th>2</th>\n",
       "      <td>3</td>\n",
       "      <td>Chris Clemons</td>\n",
       "      <td>Campbell</td>\n",
       "      <td>Sr.</td>\n",
       "      <td>9-May</td>\n",
       "      <td>G</td>\n",
       "      <td>9</td>\n",
       "      <td>86</td>\n",
       "      <td>75</td>\n",
       "      <td>279</td>\n",
       "    </tr>\n",
       "    <tr>\n",
       "      <th>3</th>\n",
       "      <td>4</td>\n",
       "      <td>Antoine Davis</td>\n",
       "      <td>Detroit Mercy</td>\n",
       "      <td>Fr.</td>\n",
       "      <td>1-Jun</td>\n",
       "      <td>G</td>\n",
       "      <td>10</td>\n",
       "      <td>95</td>\n",
       "      <td>30</td>\n",
       "      <td>274</td>\n",
       "    </tr>\n",
       "    <tr>\n",
       "      <th>4</th>\n",
       "      <td>5</td>\n",
       "      <td>Yoeli Childs</td>\n",
       "      <td>BYU</td>\n",
       "      <td>Jr.</td>\n",
       "      <td>8-Jun</td>\n",
       "      <td>F</td>\n",
       "      <td>12</td>\n",
       "      <td>108</td>\n",
       "      <td>46</td>\n",
       "      <td>273</td>\n",
       "    </tr>\n",
       "  </tbody>\n",
       "</table>\n",
       "</div>"
      ],
      "text/plain": [
       "   Rank                   Name              Team   Cl     Ht Pos   G  FGM  FT  \\\n",
       "0     1              Mike Daum  South Dakota St.  Sr.  9-Jun   F  12  107  72   \n",
       "1     2  Justin Wright-Foreman           Hofstra  Sr.  2-Jun   G  11   98  59   \n",
       "2     3          Chris Clemons          Campbell  Sr.  9-May   G   9   86  75   \n",
       "3     4          Antoine Davis     Detroit Mercy  Fr.  1-Jun   G  10   95  30   \n",
       "4     5           Yoeli Childs               BYU  Jr.  8-Jun   F  12  108  46   \n",
       "\n",
       "   PTS  \n",
       "0  314  \n",
       "1  283  \n",
       "2  279  \n",
       "3  274  \n",
       "4  273  "
      ]
     },
     "execution_count": 4,
     "metadata": {},
     "output_type": "execute_result"
    }
   ],
   "source": [
    "ranking_csv.head()"
   ]
  },
  {
   "cell_type": "code",
   "execution_count": 5,
   "metadata": {},
   "outputs": [
    {
     "name": "stdout",
     "output_type": "stream",
     "text": [
      "254\n"
     ]
    },
    {
     "data": {
      "text/html": [
       "<div>\n",
       "<style scoped>\n",
       "    .dataframe tbody tr th:only-of-type {\n",
       "        vertical-align: middle;\n",
       "    }\n",
       "\n",
       "    .dataframe tbody tr th {\n",
       "        vertical-align: top;\n",
       "    }\n",
       "\n",
       "    .dataframe thead th {\n",
       "        text-align: right;\n",
       "    }\n",
       "</style>\n",
       "<table border=\"1\" class=\"dataframe\">\n",
       "  <thead>\n",
       "    <tr style=\"text-align: right;\">\n",
       "      <th></th>\n",
       "      <th>Rank</th>\n",
       "      <th>Name</th>\n",
       "      <th>Team</th>\n",
       "      <th>PTS</th>\n",
       "    </tr>\n",
       "  </thead>\n",
       "  <tbody>\n",
       "    <tr>\n",
       "      <th>0</th>\n",
       "      <td>1</td>\n",
       "      <td>Mike Daum</td>\n",
       "      <td>South Dakota St.</td>\n",
       "      <td>314</td>\n",
       "    </tr>\n",
       "    <tr>\n",
       "      <th>1</th>\n",
       "      <td>2</td>\n",
       "      <td>Justin Wright-Foreman</td>\n",
       "      <td>Hofstra</td>\n",
       "      <td>283</td>\n",
       "    </tr>\n",
       "    <tr>\n",
       "      <th>2</th>\n",
       "      <td>3</td>\n",
       "      <td>Chris Clemons</td>\n",
       "      <td>Campbell</td>\n",
       "      <td>279</td>\n",
       "    </tr>\n",
       "    <tr>\n",
       "      <th>3</th>\n",
       "      <td>4</td>\n",
       "      <td>Antoine Davis</td>\n",
       "      <td>Detroit Mercy</td>\n",
       "      <td>274</td>\n",
       "    </tr>\n",
       "    <tr>\n",
       "      <th>4</th>\n",
       "      <td>5</td>\n",
       "      <td>Yoeli Childs</td>\n",
       "      <td>BYU</td>\n",
       "      <td>273</td>\n",
       "    </tr>\n",
       "  </tbody>\n",
       "</table>\n",
       "</div>"
      ],
      "text/plain": [
       "   Rank                   Name              Team  PTS\n",
       "0     1              Mike Daum  South Dakota St.  314\n",
       "1     2  Justin Wright-Foreman           Hofstra  283\n",
       "2     3          Chris Clemons          Campbell  279\n",
       "3     4          Antoine Davis     Detroit Mercy  274\n",
       "4     5           Yoeli Childs               BYU  273"
      ]
     },
     "execution_count": 5,
     "metadata": {},
     "output_type": "execute_result"
    }
   ],
   "source": [
    "# Create a filtered dataframe from specific columns for player's rank\n",
    "ranking_cols = [\n",
    "    \"Rank\", \"Name\", \"Team\", \"PTS\"]\n",
    "ranks = ranking_csv[ranking_cols].copy()\n",
    "\n",
    "\n",
    "print(len(ranks))\n",
    "ranks.head()"
   ]
  },
  {
   "cell_type": "code",
   "execution_count": 6,
   "metadata": {},
   "outputs": [
    {
     "data": {
      "text/html": [
       "<div>\n",
       "<style scoped>\n",
       "    .dataframe tbody tr th:only-of-type {\n",
       "        vertical-align: middle;\n",
       "    }\n",
       "\n",
       "    .dataframe tbody tr th {\n",
       "        vertical-align: top;\n",
       "    }\n",
       "\n",
       "    .dataframe thead th {\n",
       "        text-align: right;\n",
       "    }\n",
       "</style>\n",
       "<table border=\"1\" class=\"dataframe\">\n",
       "  <thead>\n",
       "    <tr style=\"text-align: right;\">\n",
       "      <th></th>\n",
       "      <th>Seed</th>\n",
       "      <th>Region</th>\n",
       "      <th>Name</th>\n",
       "      <th>Mascot</th>\n",
       "    </tr>\n",
       "  </thead>\n",
       "  <tbody>\n",
       "    <tr>\n",
       "      <th>0</th>\n",
       "      <td>1</td>\n",
       "      <td>SOUTH</td>\n",
       "      <td>Virginia</td>\n",
       "      <td>https://i.turner.ncaa.com/sites/default/files/...</td>\n",
       "    </tr>\n",
       "    <tr>\n",
       "      <th>1</th>\n",
       "      <td>16</td>\n",
       "      <td>SOUTH</td>\n",
       "      <td>UMBC</td>\n",
       "      <td>https://i.turner.ncaa.com/sites/default/files/...</td>\n",
       "    </tr>\n",
       "    <tr>\n",
       "      <th>2</th>\n",
       "      <td>8</td>\n",
       "      <td>SOUTH</td>\n",
       "      <td>Creighton</td>\n",
       "      <td>https://i.turner.ncaa.com/sites/default/files/...</td>\n",
       "    </tr>\n",
       "    <tr>\n",
       "      <th>3</th>\n",
       "      <td>9</td>\n",
       "      <td>SOUTH</td>\n",
       "      <td>Kansas St.</td>\n",
       "      <td>https://i.turner.ncaa.com/sites/default/files/...</td>\n",
       "    </tr>\n",
       "    <tr>\n",
       "      <th>4</th>\n",
       "      <td>5</td>\n",
       "      <td>SOUTH</td>\n",
       "      <td>Kentucky</td>\n",
       "      <td>https://i.turner.ncaa.com/sites/default/files/...</td>\n",
       "    </tr>\n",
       "  </tbody>\n",
       "</table>\n",
       "</div>"
      ],
      "text/plain": [
       "   Seed Region        Name                                             Mascot\n",
       "0     1  SOUTH    Virginia  https://i.turner.ncaa.com/sites/default/files/...\n",
       "1    16  SOUTH        UMBC  https://i.turner.ncaa.com/sites/default/files/...\n",
       "2     8  SOUTH   Creighton  https://i.turner.ncaa.com/sites/default/files/...\n",
       "3     9  SOUTH  Kansas St.  https://i.turner.ncaa.com/sites/default/files/...\n",
       "4     5  SOUTH    Kentucky  https://i.turner.ncaa.com/sites/default/files/..."
      ]
     },
     "execution_count": 6,
     "metadata": {},
     "output_type": "execute_result"
    }
   ],
   "source": [
    "seeding_csv = pd.read_csv('team_mascot_seed_2018.csv')\n",
    "\n",
    "seeding_csv.head()"
   ]
  },
  {
   "cell_type": "code",
   "execution_count": 7,
   "metadata": {},
   "outputs": [
    {
     "name": "stdout",
     "output_type": "stream",
     "text": [
      "68\n"
     ]
    },
    {
     "data": {
      "text/html": [
       "<div>\n",
       "<style scoped>\n",
       "    .dataframe tbody tr th:only-of-type {\n",
       "        vertical-align: middle;\n",
       "    }\n",
       "\n",
       "    .dataframe tbody tr th {\n",
       "        vertical-align: top;\n",
       "    }\n",
       "\n",
       "    .dataframe thead th {\n",
       "        text-align: right;\n",
       "    }\n",
       "</style>\n",
       "<table border=\"1\" class=\"dataframe\">\n",
       "  <thead>\n",
       "    <tr style=\"text-align: right;\">\n",
       "      <th></th>\n",
       "      <th>index</th>\n",
       "      <th>Seed</th>\n",
       "      <th>Name</th>\n",
       "      <th>Region</th>\n",
       "    </tr>\n",
       "  </thead>\n",
       "  <tbody>\n",
       "    <tr>\n",
       "      <th>0</th>\n",
       "      <td>0</td>\n",
       "      <td>1</td>\n",
       "      <td>Virginia</td>\n",
       "      <td>SOUTH</td>\n",
       "    </tr>\n",
       "    <tr>\n",
       "      <th>1</th>\n",
       "      <td>1</td>\n",
       "      <td>16</td>\n",
       "      <td>UMBC</td>\n",
       "      <td>SOUTH</td>\n",
       "    </tr>\n",
       "    <tr>\n",
       "      <th>2</th>\n",
       "      <td>2</td>\n",
       "      <td>8</td>\n",
       "      <td>Creighton</td>\n",
       "      <td>SOUTH</td>\n",
       "    </tr>\n",
       "    <tr>\n",
       "      <th>3</th>\n",
       "      <td>3</td>\n",
       "      <td>9</td>\n",
       "      <td>Kansas St.</td>\n",
       "      <td>SOUTH</td>\n",
       "    </tr>\n",
       "    <tr>\n",
       "      <th>4</th>\n",
       "      <td>4</td>\n",
       "      <td>5</td>\n",
       "      <td>Kentucky</td>\n",
       "      <td>SOUTH</td>\n",
       "    </tr>\n",
       "  </tbody>\n",
       "</table>\n",
       "</div>"
      ],
      "text/plain": [
       "   index  Seed        Name Region\n",
       "0      0     1    Virginia  SOUTH\n",
       "1      1    16        UMBC  SOUTH\n",
       "2      2     8   Creighton  SOUTH\n",
       "3      3     9  Kansas St.  SOUTH\n",
       "4      4     5    Kentucky  SOUTH"
      ]
     },
     "execution_count": 7,
     "metadata": {},
     "output_type": "execute_result"
    }
   ],
   "source": [
    "# Create a filtered dataframe from specific columns for players\n",
    "seeds_cols = [\n",
    "    \"Seed\", \"Name\", \"Region\"]\n",
    "seeds = seeding_csv[seeds_cols].copy()\n",
    "\n",
    "seeds.reset_index(inplace=True)\n",
    "print(len(seeds))\n",
    "seeds.head()"
   ]
  },
  {
   "cell_type": "code",
   "execution_count": 9,
   "metadata": {},
   "outputs": [],
   "source": [
    "#\"Rank\", \"Name\",\"Team\",\"PTS\"\n",
    "class Ranks(Base):\n",
    "    __tablename__ = \"ranks\"\n",
    "    Rank = Column(Integer, primary_key=True)\n",
    "    Name = Column(String(255))\n",
    "    Team = Column(String(255))\n",
    "    PTS = Column(Integer)"
   ]
  },
  {
   "cell_type": "code",
   "execution_count": 10,
   "metadata": {},
   "outputs": [],
   "source": [
    "class Seeds(Base):\n",
    "    __tablename__ = \"seeds\"\n",
    "    index = Column(Integer, primary_key=True)\n",
    "    Seed = Column(Integer)\n",
    "    Name = Column(String(255))\n",
    "    Region = Column(String(255))"
   ]
  },
  {
   "cell_type": "code",
   "execution_count": 14,
   "metadata": {},
   "outputs": [],
   "source": [
    "engine = create_engine(\"sqlite:///ncaa_Rank_Seed2018.sqlite\")"
   ]
  },
  {
   "cell_type": "code",
   "execution_count": 15,
   "metadata": {},
   "outputs": [],
   "source": [
    "Base.metadata.create_all(engine)"
   ]
  },
  {
   "cell_type": "code",
   "execution_count": 16,
   "metadata": {},
   "outputs": [],
   "source": [
    "ranks.to_sql(\"ranks\", engine, if_exists='append', index=False)\n",
    "seeds.to_sql(\"seeds\", engine, if_exists='append', index=False)"
   ]
  },
  {
   "cell_type": "code",
   "execution_count": 17,
   "metadata": {},
   "outputs": [
    {
     "data": {
      "text/plain": [
       "['ranks', 'seeds']"
      ]
     },
     "execution_count": 17,
     "metadata": {},
     "output_type": "execute_result"
    }
   ],
   "source": [
    "engine.table_names()"
   ]
  },
  {
   "cell_type": "code",
   "execution_count": 19,
   "metadata": {},
   "outputs": [
    {
     "data": {
      "text/plain": [
       "[(1, 'Mike Daum', 'South Dakota St.', 314)]"
      ]
     },
     "execution_count": 19,
     "metadata": {},
     "output_type": "execute_result"
    }
   ],
   "source": [
    "engine.execute(\"SELECT * FROM ranks LIMIT 1\").fetchall()"
   ]
  },
  {
   "cell_type": "code",
   "execution_count": 20,
   "metadata": {},
   "outputs": [
    {
     "data": {
      "text/plain": [
       "[(0, 1, 'Virginia', 'SOUTH')]"
      ]
     },
     "execution_count": 20,
     "metadata": {},
     "output_type": "execute_result"
    }
   ],
   "source": [
    "engine.execute(\"SELECT * FROM seeds LIMIT 1\").fetchall()"
   ]
  },
  {
   "cell_type": "code",
   "execution_count": null,
   "metadata": {},
   "outputs": [],
   "source": []
  }
 ],
 "metadata": {
  "kernelspec": {
   "display_name": "Python 3",
   "language": "python",
   "name": "python3"
  },
  "language_info": {
   "codemirror_mode": {
    "name": "ipython",
    "version": 3
   },
   "file_extension": ".py",
   "mimetype": "text/x-python",
   "name": "python",
   "nbconvert_exporter": "python",
   "pygments_lexer": "ipython3",
   "version": "3.6.6"
  }
 },
 "nbformat": 4,
 "nbformat_minor": 2
}
