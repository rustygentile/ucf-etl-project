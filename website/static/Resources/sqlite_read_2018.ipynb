{
 "cells": [
  {
   "cell_type": "code",
   "execution_count": 1,
   "metadata": {},
   "outputs": [],
   "source": [
    "import pandas as pd\n",
    "# Import SQLAlchemy `automap` and other dependencies here\n",
    "import sqlalchemy\n",
    "from sqlalchemy.ext.automap import automap_base\n",
    "from sqlalchemy.orm import Session\n",
    "from sqlalchemy import create_engine, inspect, func"
   ]
  },
  {
   "cell_type": "code",
   "execution_count": 4,
   "metadata": {},
   "outputs": [],
   "source": [
    "# Create an engine for the `emoji.sqlite` database\n",
    "engine = create_engine(\"sqlite:///ncaa_Rank_Seed2018.sqlite\", echo=False)"
   ]
  },
  {
   "cell_type": "code",
   "execution_count": 5,
   "metadata": {},
   "outputs": [
    {
     "data": {
      "text/plain": [
       "['ranks', 'seeds']"
      ]
     },
     "execution_count": 5,
     "metadata": {},
     "output_type": "execute_result"
    }
   ],
   "source": [
    "# Use the Inspector to explore the database and print the table names\n",
    "inspector = inspect(engine)\n",
    "inspector.get_table_names()"
   ]
  },
  {
   "cell_type": "code",
   "execution_count": 6,
   "metadata": {},
   "outputs": [
    {
     "name": "stdout",
     "output_type": "stream",
     "text": [
      "Rank INTEGER\n",
      "Name VARCHAR(255)\n",
      "Team VARCHAR(255)\n",
      "PTS INTEGER\n"
     ]
    }
   ],
   "source": [
    "# Use Inspector to print the column names and types\n",
    "columns = inspector.get_columns('ranks')\n",
    "for c in columns:\n",
    "    print(c['name'], c[\"type\"])"
   ]
  },
  {
   "cell_type": "code",
   "execution_count": 16,
   "metadata": {},
   "outputs": [
    {
     "name": "stdout",
     "output_type": "stream",
     "text": [
      "index INTEGER\n",
      "Seed INTEGER\n",
      "Name VARCHAR(255)\n",
      "Region VARCHAR(255)\n"
     ]
    }
   ],
   "source": [
    "# Use Inspector to print the column names and types\n",
    "columns = inspector.get_columns('seeds')\n",
    "for c in columns:\n",
    "    print(c['name'], c[\"type\"])"
   ]
  },
  {
   "cell_type": "code",
   "execution_count": 7,
   "metadata": {},
   "outputs": [
    {
     "data": {
      "text/plain": [
       "[(1, 'Mike Daum', 'South Dakota St.', 314),\n",
       " (2, 'Justin Wright-Foreman', 'Hofstra', 283),\n",
       " (3, 'Chris Clemons', 'Campbell', 279),\n",
       " (4, 'Antoine Davis', 'Detroit Mercy', 274),\n",
       " (5, 'Yoeli Childs', 'BYU', 273),\n",
       " (6, 'Jermaine Marrow', 'Hampton', 259),\n",
       " (7, 'Bubba Parham', 'VMI', 258),\n",
       " (8, 'Carsen Edwards', 'Purdue', 255),\n",
       " (9, 'Jordan Ford', \"Saint Mary's (CA)\", 248),\n",
       " (10, 'David Jenkins', 'South Dakota St.', 248)]"
      ]
     },
     "execution_count": 7,
     "metadata": {},
     "output_type": "execute_result"
    }
   ],
   "source": [
    "engine.execute('SELECT * FROM ranks LIMIT 10').fetchall()"
   ]
  },
  {
   "cell_type": "code",
   "execution_count": 12,
   "metadata": {},
   "outputs": [
    {
     "data": {
      "text/plain": [
       "[(0, 1, 'Virginia', 'SOUTH'),\n",
       " (1, 16, 'UMBC', 'SOUTH'),\n",
       " (2, 8, 'Creighton', 'SOUTH'),\n",
       " (3, 9, 'Kansas St.', 'SOUTH'),\n",
       " (4, 5, 'Kentucky', 'SOUTH'),\n",
       " (5, 12, 'Davidson', 'SOUTH'),\n",
       " (6, 4, 'Arizona', 'SOUTH'),\n",
       " (7, 13, 'Buffalo', 'SOUTH'),\n",
       " (8, 6, 'Miami (FL)', 'SOUTH'),\n",
       " (9, 11, 'Loyola (IL)', 'SOUTH')]"
      ]
     },
     "execution_count": 12,
     "metadata": {},
     "output_type": "execute_result"
    }
   ],
   "source": [
    "engine.execute('SELECT * FROM seeds LIMIT 10').fetchall()"
   ]
  },
  {
   "cell_type": "code",
   "execution_count": 13,
   "metadata": {},
   "outputs": [],
   "source": [
    "# Reflect Database into ORM class\n",
    "Base = automap_base()\n",
    "Base.prepare(engine, reflect=True)\n",
    "Ranks = Base.classes.ranks\n",
    "Seeds = Base.classes.seeds"
   ]
  },
  {
   "cell_type": "code",
   "execution_count": 14,
   "metadata": {},
   "outputs": [],
   "source": [
    "# Start a session to query the database\n",
    "session = Session(engine)"
   ]
  },
  {
   "cell_type": "code",
   "execution_count": 15,
   "metadata": {},
   "outputs": [
    {
     "data": {
      "text/plain": [
       "(1, 'Mike Daum', 'South Dakota St.', 314)"
      ]
     },
     "execution_count": 15,
     "metadata": {},
     "output_type": "execute_result"
    }
   ],
   "source": [
    "# query the database\n",
    "session.query(Ranks.Rank, Ranks.Name, Ranks.Team,Ranks.PTS).first()"
   ]
  },
  {
   "cell_type": "code",
   "execution_count": 24,
   "metadata": {},
   "outputs": [],
   "source": [
    "#Display the teams from region\n",
    "def Region_teams(region_name):\n",
    "    results = session.query(Seeds.Seed, Seeds.Name).filter(Seeds.Region == region_name).\\\n",
    "    order_by(Seeds.Seed.asc()).all()\n",
    "    return results\n"
   ]
  },
  {
   "cell_type": "code",
   "execution_count": 25,
   "metadata": {},
   "outputs": [
    {
     "name": "stdout",
     "output_type": "stream",
     "text": [
      "[(1, 'Virginia'), (2, 'Cincinnati'), (3, 'Tennessee'), (4, 'Arizona'), (5, 'Kentucky'), (6, 'Miami (FL)'), (7, 'Nevada'), (8, 'Creighton'), (9, 'Kansas St.'), (10, 'Texas'), (11, 'Loyola (IL)'), (12, 'Davidson'), (13, 'Buffalo'), (14, 'Wright St.'), (15, 'Georgia St.'), (16, 'UMBC')]\n"
     ]
    }
   ],
   "source": [
    "south_results = Region_teams(\"SOUTH\")\n",
    "print(south_results)"
   ]
  },
  {
   "cell_type": "code",
   "execution_count": 26,
   "metadata": {},
   "outputs": [
    {
     "name": "stdout",
     "output_type": "stream",
     "text": [
      "[(1, 'Villanova'), (2, 'Purdue'), (3, 'Texas Tech'), (4, 'Wichita St.'), (5, 'West Virginia'), (6, 'Florida'), (7, 'Arkansas'), (8, 'Virginia Tech'), (9, 'Alabama'), (10, 'Butler'), (11, 'St. Bonaventure'), (11, 'UCLA'), (12, 'Murray St.'), (13, 'Marshall'), (14, 'Stephen F. Austin'), (15, 'Cal St. Fullerton'), (16, 'Radford'), (16, 'Long Island')]\n"
     ]
    }
   ],
   "source": [
    "east_results = Region_teams(\"EAST\")\n",
    "print(east_results)"
   ]
  },
  {
   "cell_type": "code",
   "execution_count": 27,
   "metadata": {},
   "outputs": [
    {
     "name": "stdout",
     "output_type": "stream",
     "text": [
      "[(1, 'Xavier'), (2, 'North Carolina'), (3, 'Michigan'), (4, 'Gonzaga'), (5, 'Ohio St.'), (6, 'Houston'), (7, 'Texas A&M'), (8, 'Missouri'), (9, 'Florida St.'), (10, 'Providence'), (11, 'San Diego St.'), (12, 'South Dakota St.'), (13, 'UNC Greensboro'), (14, 'Montana'), (15, 'Lipscomb'), (16, 'Texas Southern'), (16, 'N.C. Central')]\n"
     ]
    }
   ],
   "source": [
    "west_results = Region_teams(\"WEST\")\n",
    "print(west_results)"
   ]
  },
  {
   "cell_type": "code",
   "execution_count": 28,
   "metadata": {},
   "outputs": [
    {
     "name": "stdout",
     "output_type": "stream",
     "text": [
      "[(1, 'Kansas'), (2, 'Duke'), (3, 'Michigan St.'), (4, 'Auburn'), (5, 'Clemson'), (6, 'TCU'), (7, 'Rhode Island'), (8, 'Seton Hall'), (9, 'North Carolina St.'), (10, 'Oklahoma'), (11, 'Syracuse'), (11, 'Arizona St.'), (12, 'New Mexico St.'), (13, 'Col. of Charleston'), (14, 'Bucknell'), (15, 'Iona'), (16, 'Penn')]\n"
     ]
    }
   ],
   "source": [
    "midwest_results = Region_teams(\"MIDWEST\")\n",
    "print(midwest_results)"
   ]
  },
  {
   "cell_type": "code",
   "execution_count": 35,
   "metadata": {},
   "outputs": [
    {
     "name": "stdout",
     "output_type": "stream",
     "text": [
      "254\n"
     ]
    }
   ],
   "source": [
    "#Rank, Name, Team, PTS\n",
    "top_25 = session.query(Ranks.Rank, Ranks.Name, Ranks.PTS).limit(300).all()\n",
    "print(len(top_25))"
   ]
  },
  {
   "cell_type": "code",
   "execution_count": null,
   "metadata": {},
   "outputs": [],
   "source": []
  }
 ],
 "metadata": {
  "kernelspec": {
   "display_name": "Python 3",
   "language": "python",
   "name": "python3"
  },
  "language_info": {
   "codemirror_mode": {
    "name": "ipython",
    "version": 3
   },
   "file_extension": ".py",
   "mimetype": "text/x-python",
   "name": "python",
   "nbconvert_exporter": "python",
   "pygments_lexer": "ipython3",
   "version": "3.6.6"
  }
 },
 "nbformat": 4,
 "nbformat_minor": 2
}
